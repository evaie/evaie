{
  "nbformat": 4,
  "nbformat_minor": 0,
  "metadata": {
    "colab": {
      "name": "process-inscriptions.ipynb",
      "provenance": [],
      "include_colab_link": true
    },
    "kernelspec": {
      "name": "python3",
      "display_name": "Python 3"
    },
    "language_info": {
      "name": "python"
    }
  },
  "cells": [
    {
      "cell_type": "markdown",
      "metadata": {
        "id": "view-in-github",
        "colab_type": "text"
      },
      "source": [
        "<a href=\"https://colab.research.google.com/github/evaie/evaie/blob/main/process_inscriptions.ipynb\" target=\"_parent\"><img src=\"https://colab.research.google.com/assets/colab-badge.svg\" alt=\"Open In Colab\"/></a>"
      ]
    },
    {
      "cell_type": "markdown",
      "metadata": {
        "id": "sgCDopRW5xNs"
      },
      "source": [
        "Get authentication for reading the google sheet"
      ]
    },
    {
      "cell_type": "code",
      "metadata": {
        "id": "WwUp89F40UXr"
      },
      "source": [
        "from google.colab import auth\n",
        "auth.authenticate_user()\n",
        "\n",
        "import gspread\n",
        "from oauth2client.client import GoogleCredentials\n",
        "\n",
        "gc = gspread.authorize(GoogleCredentials.get_application_default())"
      ],
      "execution_count": null,
      "outputs": []
    },
    {
      "cell_type": "markdown",
      "metadata": {
        "id": "A4fwLrb155LC"
      },
      "source": [
        "Read the google sheet and transform it in a dataframe properly\n"
      ]
    },
    {
      "cell_type": "code",
      "metadata": {
        "id": "rDNpHoAQ0aNJ"
      },
      "source": [
        "worksheet = gc.open_by_url('https://docs.google.com/spreadsheets/d/1SCruyMO_mncyvIF8kA9HEN2cTabM8ge3Mj2Ia_yG8Uk/edit#gid=464665913').sheet1\n",
        "\n",
        "# get_all_values gives a list of rows.\n",
        "rows = worksheet.get_all_values()\n",
        "\n",
        "import pandas as pd\n",
        "df_inscriptions = pd.DataFrame.from_records(rows,columns=rows[0])\n",
        "df_inscriptions = df_inscriptions.drop(0).reindex()"
      ],
      "execution_count": null,
      "outputs": []
    },
    {
      "cell_type": "markdown",
      "metadata": {
        "id": "1DyO5byL6IXS"
      },
      "source": [
        "detect the malformed naissance columsns and change the date formate"
      ]
    },
    {
      "cell_type": "code",
      "metadata": {
        "colab": {
          "base_uri": "https://localhost:8080/",
          "height": 168
        },
        "id": "VjRDC6gA26rV",
        "outputId": "5759787b-443e-45af-ccce-f5851d416277"
      },
      "source": [
        "df_inscriptions.dropna()\n",
        "df_inscriptions['naissance'].count()\n",
        "df_ddl_1 = df_inscriptions[df_inscriptions['naissance']=='0000-00-00']\n",
        "df_ddl_1"
      ],
      "execution_count": null,
      "outputs": [
        {
          "output_type": "execute_result",
          "data": {
            "text/html": [
              "<div>\n",
              "<style scoped>\n",
              "    .dataframe tbody tr th:only-of-type {\n",
              "        vertical-align: middle;\n",
              "    }\n",
              "\n",
              "    .dataframe tbody tr th {\n",
              "        vertical-align: top;\n",
              "    }\n",
              "\n",
              "    .dataframe thead th {\n",
              "        text-align: right;\n",
              "    }\n",
              "</style>\n",
              "<table border=\"1\" class=\"dataframe\">\n",
              "  <thead>\n",
              "    <tr style=\"text-align: right;\">\n",
              "      <th></th>\n",
              "      <th>saison</th>\n",
              "      <th>statut</th>\n",
              "      <th>date_statut</th>\n",
              "      <th>civil</th>\n",
              "      <th>nom</th>\n",
              "      <th>prenom</th>\n",
              "      <th>prise_licence</th>\n",
              "      <th>email</th>\n",
              "      <th>tel</th>\n",
              "      <th>adresse</th>\n",
              "      <th>cp</th>\n",
              "      <th>ville</th>\n",
              "      <th>pays</th>\n",
              "      <th>nationalite</th>\n",
              "      <th>naissance</th>\n",
              "      <th>profession</th>\n",
              "      <th>entreprise</th>\n",
              "      <th>parent1_civil</th>\n",
              "      <th>parent1_nom</th>\n",
              "      <th>parent1_prenom</th>\n",
              "      <th>parent1_email</th>\n",
              "      <th>parent1_tel</th>\n",
              "      <th>parent2_civil</th>\n",
              "      <th>parent2_nom</th>\n",
              "      <th>parent2_prenom</th>\n",
              "      <th>parent2_email</th>\n",
              "      <th>parent2_tel</th>\n",
              "      <th>contact_civil</th>\n",
              "      <th>contact_nom</th>\n",
              "      <th>contact_prenom</th>\n",
              "      <th>contact_email</th>\n",
              "      <th>contact_tel</th>\n",
              "      <th>docteur_nom</th>\n",
              "      <th>docteur_date</th>\n",
              "      <th>handicap</th>\n",
              "      <th>reglement</th>\n",
              "      <th>documentation</th>\n",
              "      <th>benevolat</th>\n",
              "      <th>nager</th>\n",
              "      <th>assurance</th>\n",
              "      <th>type</th>\n",
              "      <th>licence</th>\n",
              "      <th>categorie</th>\n",
              "      <th>garage</th>\n",
              "      <th>optioncomp</th>\n",
              "      <th>montant</th>\n",
              "      <th>reduction</th>\n",
              "      <th>motifreduction</th>\n",
              "      <th>netapayer</th>\n",
              "      <th>paiement_helloasso</th>\n",
              "      <th>virement</th>\n",
              "      <th>cheque</th>\n",
              "      <th>nbcheques</th>\n",
              "      <th>chequesvacances</th>\n",
              "      <th>couponsport</th>\n",
              "      <th>pass92</th>\n",
              "      <th>caution_nom</th>\n",
              "      <th>caution</th>\n",
              "      <th>especes</th>\n",
              "      <th>autre_details</th>\n",
              "      <th>autre</th>\n",
              "      <th>montant_total</th>\n",
              "    </tr>\n",
              "  </thead>\n",
              "  <tbody>\n",
              "    <tr>\n",
              "      <th>23</th>\n",
              "      <td>2021-2022</td>\n",
              "      <td>Validé</td>\n",
              "      <td>2021-08-31 11:49:45</td>\n",
              "      <td>Monsieur</td>\n",
              "      <td>EXBRAYAT</td>\n",
              "      <td>JEAN-LOUIS</td>\n",
              "      <td>oui</td>\n",
              "      <td>jexbrayat@icloud.com</td>\n",
              "      <td>06 69 05 22 63?</td>\n",
              "      <td>71 rue Victor Hugo</td>\n",
              "      <td>92400</td>\n",
              "      <td>Courbevoie</td>\n",
              "      <td>FR</td>\n",
              "      <td>FR</td>\n",
              "      <td>0000-00-00</td>\n",
              "      <td>retrairé</td>\n",
              "      <td></td>\n",
              "      <td></td>\n",
              "      <td></td>\n",
              "      <td></td>\n",
              "      <td></td>\n",
              "      <td></td>\n",
              "      <td></td>\n",
              "      <td></td>\n",
              "      <td></td>\n",
              "      <td></td>\n",
              "      <td></td>\n",
              "      <td>Madame</td>\n",
              "      <td>EXBRAYAT</td>\n",
              "      <td>ELYANE</td>\n",
              "      <td>elexbrayat@gmail.com</td>\n",
              "      <td>06 64 26 24 16?</td>\n",
              "      <td>Fanny Exbrayat</td>\n",
              "      <td>2020-09-04</td>\n",
              "      <td>non</td>\n",
              "      <td>on</td>\n",
              "      <td>on</td>\n",
              "      <td>on</td>\n",
              "      <td>on</td>\n",
              "      <td>on</td>\n",
              "      <td>renouvellement</td>\n",
              "      <td>432020</td>\n",
              "      <td>Séniors + Loisirs + CE</td>\n",
              "      <td>non</td>\n",
              "      <td>non</td>\n",
              "      <td>460.00</td>\n",
              "      <td>0.00</td>\n",
              "      <td></td>\n",
              "      <td>460.00</td>\n",
              "      <td>0.00</td>\n",
              "      <td>0.00</td>\n",
              "      <td>460.00</td>\n",
              "      <td>1</td>\n",
              "      <td>0.00</td>\n",
              "      <td>0.00</td>\n",
              "      <td>0.00</td>\n",
              "      <td></td>\n",
              "      <td>0.00</td>\n",
              "      <td>0.00</td>\n",
              "      <td></td>\n",
              "      <td>0.00</td>\n",
              "      <td>460.00</td>\n",
              "    </tr>\n",
              "  </tbody>\n",
              "</table>\n",
              "</div>"
            ],
            "text/plain": [
              "       saison  statut          date_statut  ... autre_details autre montant_total\n",
              "23  2021-2022  Validé  2021-08-31 11:49:45  ...                0.00        460.00\n",
              "\n",
              "[1 rows x 62 columns]"
            ]
          },
          "metadata": {},
          "execution_count": 138
        }
      ]
    },
    {
      "cell_type": "code",
      "metadata": {
        "colab": {
          "base_uri": "https://localhost:8080/",
          "height": 100
        },
        "id": "fWysLb-FEqUH",
        "outputId": "5f25b561-5412-4d50-b513-f970a8d8b5e4"
      },
      "source": [
        "df_ddl_2 =df_inscriptions[df_inscriptions['naissance']=='']\n",
        "df_ddl_2"
      ],
      "execution_count": null,
      "outputs": [
        {
          "output_type": "execute_result",
          "data": {
            "text/html": [
              "<div>\n",
              "<style scoped>\n",
              "    .dataframe tbody tr th:only-of-type {\n",
              "        vertical-align: middle;\n",
              "    }\n",
              "\n",
              "    .dataframe tbody tr th {\n",
              "        vertical-align: top;\n",
              "    }\n",
              "\n",
              "    .dataframe thead th {\n",
              "        text-align: right;\n",
              "    }\n",
              "</style>\n",
              "<table border=\"1\" class=\"dataframe\">\n",
              "  <thead>\n",
              "    <tr style=\"text-align: right;\">\n",
              "      <th></th>\n",
              "      <th>saison</th>\n",
              "      <th>statut</th>\n",
              "      <th>date_statut</th>\n",
              "      <th>civil</th>\n",
              "      <th>nom</th>\n",
              "      <th>prenom</th>\n",
              "      <th>prise_licence</th>\n",
              "      <th>email</th>\n",
              "      <th>tel</th>\n",
              "      <th>adresse</th>\n",
              "      <th>cp</th>\n",
              "      <th>ville</th>\n",
              "      <th>pays</th>\n",
              "      <th>nationalite</th>\n",
              "      <th>naissance</th>\n",
              "      <th>profession</th>\n",
              "      <th>entreprise</th>\n",
              "      <th>parent1_civil</th>\n",
              "      <th>parent1_nom</th>\n",
              "      <th>parent1_prenom</th>\n",
              "      <th>parent1_email</th>\n",
              "      <th>parent1_tel</th>\n",
              "      <th>parent2_civil</th>\n",
              "      <th>parent2_nom</th>\n",
              "      <th>parent2_prenom</th>\n",
              "      <th>parent2_email</th>\n",
              "      <th>parent2_tel</th>\n",
              "      <th>contact_civil</th>\n",
              "      <th>contact_nom</th>\n",
              "      <th>contact_prenom</th>\n",
              "      <th>contact_email</th>\n",
              "      <th>contact_tel</th>\n",
              "      <th>docteur_nom</th>\n",
              "      <th>docteur_date</th>\n",
              "      <th>handicap</th>\n",
              "      <th>reglement</th>\n",
              "      <th>documentation</th>\n",
              "      <th>benevolat</th>\n",
              "      <th>nager</th>\n",
              "      <th>assurance</th>\n",
              "      <th>type</th>\n",
              "      <th>licence</th>\n",
              "      <th>categorie</th>\n",
              "      <th>garage</th>\n",
              "      <th>optioncomp</th>\n",
              "      <th>montant</th>\n",
              "      <th>reduction</th>\n",
              "      <th>motifreduction</th>\n",
              "      <th>netapayer</th>\n",
              "      <th>paiement_helloasso</th>\n",
              "      <th>virement</th>\n",
              "      <th>cheque</th>\n",
              "      <th>nbcheques</th>\n",
              "      <th>chequesvacances</th>\n",
              "      <th>couponsport</th>\n",
              "      <th>pass92</th>\n",
              "      <th>caution_nom</th>\n",
              "      <th>caution</th>\n",
              "      <th>especes</th>\n",
              "      <th>autre_details</th>\n",
              "      <th>autre</th>\n",
              "      <th>montant_total</th>\n",
              "    </tr>\n",
              "  </thead>\n",
              "  <tbody>\n",
              "    <tr>\n",
              "      <th>80</th>\n",
              "      <td></td>\n",
              "      <td></td>\n",
              "      <td></td>\n",
              "      <td></td>\n",
              "      <td></td>\n",
              "      <td></td>\n",
              "      <td>34</td>\n",
              "      <td></td>\n",
              "      <td></td>\n",
              "      <td></td>\n",
              "      <td></td>\n",
              "      <td></td>\n",
              "      <td></td>\n",
              "      <td></td>\n",
              "      <td></td>\n",
              "      <td></td>\n",
              "      <td></td>\n",
              "      <td></td>\n",
              "      <td></td>\n",
              "      <td></td>\n",
              "      <td></td>\n",
              "      <td></td>\n",
              "      <td></td>\n",
              "      <td></td>\n",
              "      <td></td>\n",
              "      <td></td>\n",
              "      <td></td>\n",
              "      <td></td>\n",
              "      <td></td>\n",
              "      <td></td>\n",
              "      <td></td>\n",
              "      <td></td>\n",
              "      <td></td>\n",
              "      <td></td>\n",
              "      <td></td>\n",
              "      <td></td>\n",
              "      <td></td>\n",
              "      <td></td>\n",
              "      <td></td>\n",
              "      <td></td>\n",
              "      <td></td>\n",
              "      <td></td>\n",
              "      <td></td>\n",
              "      <td></td>\n",
              "      <td></td>\n",
              "      <td></td>\n",
              "      <td></td>\n",
              "      <td></td>\n",
              "      <td></td>\n",
              "      <td></td>\n",
              "      <td></td>\n",
              "      <td></td>\n",
              "      <td></td>\n",
              "      <td></td>\n",
              "      <td></td>\n",
              "      <td></td>\n",
              "      <td></td>\n",
              "      <td></td>\n",
              "      <td></td>\n",
              "      <td></td>\n",
              "      <td></td>\n",
              "      <td></td>\n",
              "    </tr>\n",
              "  </tbody>\n",
              "</table>\n",
              "</div>"
            ],
            "text/plain": [
              "   saison statut date_statut civil  ... especes autre_details autre montant_total\n",
              "80                                  ...                                          \n",
              "\n",
              "[1 rows x 62 columns]"
            ]
          },
          "metadata": {},
          "execution_count": 139
        }
      ]
    },
    {
      "cell_type": "code",
      "metadata": {
        "id": "oIBV-kYHyWgr"
      },
      "source": [
        "df_inscriptions = df_inscriptions[df_inscriptions['naissance']!='0000-00-00']\n",
        "df_inscriptions = df_inscriptions[df_inscriptions['naissance']!='']"
      ],
      "execution_count": null,
      "outputs": []
    },
    {
      "cell_type": "code",
      "metadata": {
        "id": "v-LGUT73-yvJ"
      },
      "source": [
        "from datetime import datetime\n",
        "df_inscriptions['naissance']= df_inscriptions[df_inscriptions['naissance']!='0000-00-00']['naissance'].\\\n",
        "apply(lambda x : datetime.strptime(x, '%Y-%m-%d').strftime('%d/%m/%Y'))"
      ],
      "execution_count": null,
      "outputs": []
    },
    {
      "cell_type": "code",
      "metadata": {
        "id": "WvLLqErr_JA8"
      },
      "source": [
        "df_inscriptions['sexe'] = df_inscriptions['civil'].apply(lambda x : 'H' if x == 'Monsieur' else 'F')"
      ],
      "execution_count": null,
      "outputs": []
    },
    {
      "cell_type": "code",
      "metadata": {
        "id": "5_BkjpMGvsdd"
      },
      "source": [
        "df_inscriptions = df_inscriptions[df_inscriptions.columns.drop(list(df_inscriptions.filter(regex='^parent')))]\n",
        "df_inscriptions = df_inscriptions[df_inscriptions.columns.drop(list(df_inscriptions.filter(regex='^contact')))]\n",
        "df_inscriptions = df_inscriptions[df_inscriptions.columns.drop(list(df_inscriptions.filter(regex='[a-z]*cheque[a-z]*')))]\n",
        "df_inscriptions = df_inscriptions[df_inscriptions.columns.drop(['documentation', 'benevolat', 'nager', 'assurance',\\\n",
        "                                                                'caution_nom', 'caution', 'especes', 'autre_details',\\\n",
        "                                                                'montant_total','saison','statut','date_statut','profession',\\\n",
        "                                                                'entreprise','reglement','garage','montant','reduction',\\\n",
        "                                                                'motifreduction','netapayer', 'paiement_helloasso','virement',\\\n",
        "                                                                'couponsport','pass92','optioncomp','autre'])]"
      ],
      "execution_count": null,
      "outputs": []
    },
    {
      "cell_type": "code",
      "metadata": {
        "id": "2d1Wl3ca2Zpz"
      },
      "source": [
        "from datetime import date,timedelta\n",
        "yesterday = date.today() - timedelta(days=1)\n",
        "yester_str = yesterday.strftime('%Y-%m-%d')"
      ],
      "execution_count": null,
      "outputs": []
    },
    {
      "cell_type": "code",
      "metadata": {
        "colab": {
          "base_uri": "https://localhost:8080/"
        },
        "id": "ts-8t3Ri4cHX",
        "outputId": "94018101-fb12-46e7-ba53-78a1b95a2838"
      },
      "source": [
        "df_inscriptions['docteur_date'] = df_inscriptions['docteur_date'].apply(lambda x : yester_str if x =='0000-00-00' else x)\n",
        "df_inscriptions['docteur_date']"
      ],
      "execution_count": null,
      "outputs": [
        {
          "output_type": "execute_result",
          "data": {
            "text/plain": [
              "1     2021-06-18\n",
              "2     2021-09-09\n",
              "3     2020-09-10\n",
              "4     2021-09-18\n",
              "5     2021-09-18\n",
              "         ...    \n",
              "75    2021-09-18\n",
              "76    2002-01-25\n",
              "77    2021-07-07\n",
              "78    2020-08-04\n",
              "79    2020-10-09\n",
              "Name: docteur_date, Length: 78, dtype: object"
            ]
          },
          "metadata": {},
          "execution_count": 145
        }
      ]
    },
    {
      "cell_type": "code",
      "metadata": {
        "id": "vX12Ns205icD"
      },
      "source": [
        "from datetime import datetime\n",
        "df_inscriptions['docteur_date']= df_inscriptions['docteur_date'].apply(lambda x : datetime.strptime(x, '%Y-%m-%d').strftime('%d/%m/%Y'))"
      ],
      "execution_count": null,
      "outputs": []
    },
    {
      "cell_type": "code",
      "metadata": {
        "id": "uk0JEc79711u"
      },
      "source": [
        "df_inscriptions['docteur_nom'] = df_inscriptions['docteur_nom'].apply(lambda x : str.upper(x))\n",
        "df_inscriptions['ville'] = df_inscriptions['ville'].apply(lambda x : str.upper(x))"
      ],
      "execution_count": null,
      "outputs": []
    },
    {
      "cell_type": "code",
      "metadata": {
        "id": "n8OcKItSAoaS"
      },
      "source": [
        "try :\n",
        "  inscription_reprocessed = worksheet.spreadsheet.worksheet('re-processed')\n",
        "  inscription_reprocessed.clear()\n",
        "except:\n",
        "  inscription_reprocessed = worksheet.spreadsheet.add_worksheet(title=\"re-processed\", rows=\"350\", cols=\"20\")"
      ],
      "execution_count": null,
      "outputs": []
    },
    {
      "cell_type": "code",
      "metadata": {
        "id": "ubVokHZNCcOl"
      },
      "source": [
        "from gspread_dataframe import set_with_dataframe\n",
        "set_with_dataframe(inscription_reprocessed, df_inscriptions)"
      ],
      "execution_count": null,
      "outputs": []
    }
  ]
}