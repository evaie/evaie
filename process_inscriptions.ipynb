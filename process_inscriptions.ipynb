{
  "nbformat": 4,
  "nbformat_minor": 0,
  "metadata": {
    "colab": {
      "name": "process-inscriptions.ipynb",
      "provenance": [],
      "include_colab_link": true
    },
    "kernelspec": {
      "name": "python3",
      "display_name": "Python 3"
    },
    "language_info": {
      "name": "python"
    }
  },
  "cells": [
    {
      "cell_type": "markdown",
      "metadata": {
        "id": "view-in-github",
        "colab_type": "text"
      },
      "source": [
        "<a href=\"https://colab.research.google.com/github/evaie/evaie/blob/main/process_inscriptions.ipynb\" target=\"_parent\"><img src=\"https://colab.research.google.com/assets/colab-badge.svg\" alt=\"Open In Colab\"/></a>"
      ]
    },
    {
      "cell_type": "markdown",
      "metadata": {
        "id": "sgCDopRW5xNs"
      },
      "source": [
        "Get authentication for reading the google sheet"
      ]
    },
    {
      "cell_type": "code",
      "metadata": {
        "id": "WwUp89F40UXr"
      },
      "source": [
        "from google.colab import auth\n",
        "auth.authenticate_user()\n",
        "\n",
        "import gspread\n",
        "from oauth2client.client import GoogleCredentials\n",
        "\n",
        "gc = gspread.authorize(GoogleCredentials.get_application_default())"
      ],
      "execution_count": null,
      "outputs": []
    },
    {
      "cell_type": "markdown",
      "metadata": {
        "id": "A4fwLrb155LC"
      },
      "source": [
        "Read the google sheet and transform it in a dataframe properly\n"
      ]
    },
    {
      "cell_type": "code",
      "metadata": {
        "id": "rDNpHoAQ0aNJ"
      },
      "source": [
        "worksheet = gc.open_by_url('https://docs.google.com/spreadsheets/d/1SCruyMO_mncyvIF8kA9HEN2cTabM8ge3Mj2Ia_yG8Uk/edit#gid=464665913').sheet1\n",
        "\n",
        "# get_all_values gives a list of rows.\n",
        "rows = worksheet.get_all_values()\n",
        "\n",
        "import pandas as pd\n",
        "df_inscriptions = pd.DataFrame.from_records(rows,columns=rows[0])\n",
        "df_inscriptions = df_inscriptions.drop(0).reindex()"
      ],
      "execution_count": null,
      "outputs": []
    },
    {
      "cell_type": "code",
      "metadata": {
        "colab": {
          "base_uri": "https://localhost:8080/"
        },
        "id": "iCfDSkB31p_s",
        "outputId": "eee8363b-155b-4185-f3a6-f3d1906fece1"
      },
      "source": [
        "df_inscriptions['naissance'].count"
      ],
      "execution_count": null,
      "outputs": [
        {
          "output_type": "execute_result",
          "data": {
            "text/plain": [
              "<bound method Series.count of 1     1958-05-28\n",
              "2     1984-02-09\n",
              "3     1962-01-31\n",
              "4     2008-06-04\n",
              "5     1965-10-18\n",
              "         ...    \n",
              "76    2002-01-25\n",
              "77    2003-04-24\n",
              "78    1971-09-09\n",
              "79    1972-10-22\n",
              "80              \n",
              "Name: naissance, Length: 80, dtype: object>"
            ]
          },
          "metadata": {},
          "execution_count": 39
        }
      ]
    },
    {
      "cell_type": "markdown",
      "metadata": {
        "id": "1DyO5byL6IXS"
      },
      "source": [
        "detect the malformed naissance columsns and change the date formate"
      ]
    },
    {
      "cell_type": "code",
      "metadata": {
        "colab": {
          "base_uri": "https://localhost:8080/",
          "height": 168
        },
        "id": "VjRDC6gA26rV",
        "outputId": "e1db1d97-6db5-4a5b-c710-0bad229e78ed"
      },
      "source": [
        "df_inscriptions.dropna()\n",
        "df_inscriptions['naissance'].count()\n",
        "df_ddl_1 = df_inscriptions[df_inscriptions['naissance']=='0000-00-00']\n",
        "df_ddl_1"
      ],
      "execution_count": null,
      "outputs": [
        {
          "output_type": "execute_result",
          "data": {
            "text/html": [
              "<div>\n",
              "<style scoped>\n",
              "    .dataframe tbody tr th:only-of-type {\n",
              "        vertical-align: middle;\n",
              "    }\n",
              "\n",
              "    .dataframe tbody tr th {\n",
              "        vertical-align: top;\n",
              "    }\n",
              "\n",
              "    .dataframe thead th {\n",
              "        text-align: right;\n",
              "    }\n",
              "</style>\n",
              "<table border=\"1\" class=\"dataframe\">\n",
              "  <thead>\n",
              "    <tr style=\"text-align: right;\">\n",
              "      <th></th>\n",
              "      <th>saison</th>\n",
              "      <th>statut</th>\n",
              "      <th>date_statut</th>\n",
              "      <th>civil</th>\n",
              "      <th>nom</th>\n",
              "      <th>prenom</th>\n",
              "      <th>Licence</th>\n",
              "      <th>email</th>\n",
              "      <th>tel</th>\n",
              "      <th>adresse</th>\n",
              "      <th>cp</th>\n",
              "      <th>ville</th>\n",
              "      <th>pays</th>\n",
              "      <th>nationalite</th>\n",
              "      <th>naissance</th>\n",
              "      <th>profession</th>\n",
              "      <th>entreprise</th>\n",
              "      <th>parent1_civil</th>\n",
              "      <th>parent1_nom</th>\n",
              "      <th>parent1_prenom</th>\n",
              "      <th>parent1_email</th>\n",
              "      <th>parent1_tel</th>\n",
              "      <th>parent2_civil</th>\n",
              "      <th>parent2_nom</th>\n",
              "      <th>parent2_prenom</th>\n",
              "      <th>parent2_email</th>\n",
              "      <th>parent2_tel</th>\n",
              "      <th>contact_civil</th>\n",
              "      <th>contact_nom</th>\n",
              "      <th>contact_prenom</th>\n",
              "      <th>contact_email</th>\n",
              "      <th>contact_tel</th>\n",
              "      <th>docteur_nom</th>\n",
              "      <th>docteur_date</th>\n",
              "      <th>handicap</th>\n",
              "      <th>reglement</th>\n",
              "      <th>documentation</th>\n",
              "      <th>benevolat</th>\n",
              "      <th>nager</th>\n",
              "      <th>assurance</th>\n",
              "      <th>type</th>\n",
              "      <th>licence</th>\n",
              "      <th>categorie</th>\n",
              "      <th>garage</th>\n",
              "      <th>optioncomp</th>\n",
              "      <th>montant</th>\n",
              "      <th>reduction</th>\n",
              "      <th>motifreduction</th>\n",
              "      <th>netapayer</th>\n",
              "      <th>paiement_helloasso</th>\n",
              "      <th>virement</th>\n",
              "      <th>cheque</th>\n",
              "      <th>nbcheques</th>\n",
              "      <th>chequesvacances</th>\n",
              "      <th>couponsport</th>\n",
              "      <th>pass92</th>\n",
              "      <th>caution_nom</th>\n",
              "      <th>caution</th>\n",
              "      <th>especes</th>\n",
              "      <th>autre_details</th>\n",
              "      <th>autre</th>\n",
              "      <th>montant_total</th>\n",
              "    </tr>\n",
              "  </thead>\n",
              "  <tbody>\n",
              "    <tr>\n",
              "      <th>23</th>\n",
              "      <td>2021-2022</td>\n",
              "      <td>Validé</td>\n",
              "      <td>2021-08-31 11:49:45</td>\n",
              "      <td>Monsieur</td>\n",
              "      <td>EXBRAYAT</td>\n",
              "      <td>JEAN-LOUIS</td>\n",
              "      <td>oui</td>\n",
              "      <td>jexbrayat@icloud.com</td>\n",
              "      <td>06 69 05 22 63?</td>\n",
              "      <td>71 rue Victor Hugo</td>\n",
              "      <td>92400</td>\n",
              "      <td>Courbevoie</td>\n",
              "      <td>FR</td>\n",
              "      <td>FR</td>\n",
              "      <td>0000-00-00</td>\n",
              "      <td>retrairé</td>\n",
              "      <td></td>\n",
              "      <td></td>\n",
              "      <td></td>\n",
              "      <td></td>\n",
              "      <td></td>\n",
              "      <td></td>\n",
              "      <td></td>\n",
              "      <td></td>\n",
              "      <td></td>\n",
              "      <td></td>\n",
              "      <td></td>\n",
              "      <td>Madame</td>\n",
              "      <td>EXBRAYAT</td>\n",
              "      <td>ELYANE</td>\n",
              "      <td>elexbrayat@gmail.com</td>\n",
              "      <td>06 64 26 24 16?</td>\n",
              "      <td>Fanny Exbrayat</td>\n",
              "      <td>2020-09-04</td>\n",
              "      <td>non</td>\n",
              "      <td>on</td>\n",
              "      <td>on</td>\n",
              "      <td>on</td>\n",
              "      <td>on</td>\n",
              "      <td>on</td>\n",
              "      <td>renouvellement</td>\n",
              "      <td>432020</td>\n",
              "      <td>Séniors + Loisirs + CE</td>\n",
              "      <td>non</td>\n",
              "      <td>non</td>\n",
              "      <td>460.00</td>\n",
              "      <td>0.00</td>\n",
              "      <td></td>\n",
              "      <td>460.00</td>\n",
              "      <td>0.00</td>\n",
              "      <td>0.00</td>\n",
              "      <td>460.00</td>\n",
              "      <td>1</td>\n",
              "      <td>0.00</td>\n",
              "      <td>0.00</td>\n",
              "      <td>0.00</td>\n",
              "      <td></td>\n",
              "      <td>0.00</td>\n",
              "      <td>0.00</td>\n",
              "      <td></td>\n",
              "      <td>0.00</td>\n",
              "      <td>460.00</td>\n",
              "    </tr>\n",
              "  </tbody>\n",
              "</table>\n",
              "</div>"
            ],
            "text/plain": [
              "       saison  statut          date_statut  ... autre_details autre montant_total\n",
              "23  2021-2022  Validé  2021-08-31 11:49:45  ...                0.00        460.00\n",
              "\n",
              "[1 rows x 62 columns]"
            ]
          },
          "metadata": {},
          "execution_count": 40
        }
      ]
    },
    {
      "cell_type": "code",
      "metadata": {
        "colab": {
          "base_uri": "https://localhost:8080/",
          "height": 100
        },
        "id": "fWysLb-FEqUH",
        "outputId": "bef3b17c-bf8a-439c-ead0-66735a0d2c8e"
      },
      "source": [
        "df_ddl_2 =df_inscriptions[df_inscriptions['naissance']=='']\n",
        "df_ddl_2"
      ],
      "execution_count": null,
      "outputs": [
        {
          "output_type": "execute_result",
          "data": {
            "text/html": [
              "<div>\n",
              "<style scoped>\n",
              "    .dataframe tbody tr th:only-of-type {\n",
              "        vertical-align: middle;\n",
              "    }\n",
              "\n",
              "    .dataframe tbody tr th {\n",
              "        vertical-align: top;\n",
              "    }\n",
              "\n",
              "    .dataframe thead th {\n",
              "        text-align: right;\n",
              "    }\n",
              "</style>\n",
              "<table border=\"1\" class=\"dataframe\">\n",
              "  <thead>\n",
              "    <tr style=\"text-align: right;\">\n",
              "      <th></th>\n",
              "      <th>saison</th>\n",
              "      <th>statut</th>\n",
              "      <th>date_statut</th>\n",
              "      <th>civil</th>\n",
              "      <th>nom</th>\n",
              "      <th>prenom</th>\n",
              "      <th>Licence</th>\n",
              "      <th>email</th>\n",
              "      <th>tel</th>\n",
              "      <th>adresse</th>\n",
              "      <th>cp</th>\n",
              "      <th>ville</th>\n",
              "      <th>pays</th>\n",
              "      <th>nationalite</th>\n",
              "      <th>naissance</th>\n",
              "      <th>profession</th>\n",
              "      <th>entreprise</th>\n",
              "      <th>parent1_civil</th>\n",
              "      <th>parent1_nom</th>\n",
              "      <th>parent1_prenom</th>\n",
              "      <th>parent1_email</th>\n",
              "      <th>parent1_tel</th>\n",
              "      <th>parent2_civil</th>\n",
              "      <th>parent2_nom</th>\n",
              "      <th>parent2_prenom</th>\n",
              "      <th>parent2_email</th>\n",
              "      <th>parent2_tel</th>\n",
              "      <th>contact_civil</th>\n",
              "      <th>contact_nom</th>\n",
              "      <th>contact_prenom</th>\n",
              "      <th>contact_email</th>\n",
              "      <th>contact_tel</th>\n",
              "      <th>docteur_nom</th>\n",
              "      <th>docteur_date</th>\n",
              "      <th>handicap</th>\n",
              "      <th>reglement</th>\n",
              "      <th>documentation</th>\n",
              "      <th>benevolat</th>\n",
              "      <th>nager</th>\n",
              "      <th>assurance</th>\n",
              "      <th>type</th>\n",
              "      <th>licence</th>\n",
              "      <th>categorie</th>\n",
              "      <th>garage</th>\n",
              "      <th>optioncomp</th>\n",
              "      <th>montant</th>\n",
              "      <th>reduction</th>\n",
              "      <th>motifreduction</th>\n",
              "      <th>netapayer</th>\n",
              "      <th>paiement_helloasso</th>\n",
              "      <th>virement</th>\n",
              "      <th>cheque</th>\n",
              "      <th>nbcheques</th>\n",
              "      <th>chequesvacances</th>\n",
              "      <th>couponsport</th>\n",
              "      <th>pass92</th>\n",
              "      <th>caution_nom</th>\n",
              "      <th>caution</th>\n",
              "      <th>especes</th>\n",
              "      <th>autre_details</th>\n",
              "      <th>autre</th>\n",
              "      <th>montant_total</th>\n",
              "    </tr>\n",
              "  </thead>\n",
              "  <tbody>\n",
              "    <tr>\n",
              "      <th>80</th>\n",
              "      <td></td>\n",
              "      <td></td>\n",
              "      <td></td>\n",
              "      <td></td>\n",
              "      <td></td>\n",
              "      <td></td>\n",
              "      <td>34</td>\n",
              "      <td></td>\n",
              "      <td></td>\n",
              "      <td></td>\n",
              "      <td></td>\n",
              "      <td></td>\n",
              "      <td></td>\n",
              "      <td></td>\n",
              "      <td></td>\n",
              "      <td></td>\n",
              "      <td></td>\n",
              "      <td></td>\n",
              "      <td></td>\n",
              "      <td></td>\n",
              "      <td></td>\n",
              "      <td></td>\n",
              "      <td></td>\n",
              "      <td></td>\n",
              "      <td></td>\n",
              "      <td></td>\n",
              "      <td></td>\n",
              "      <td></td>\n",
              "      <td></td>\n",
              "      <td></td>\n",
              "      <td></td>\n",
              "      <td></td>\n",
              "      <td></td>\n",
              "      <td></td>\n",
              "      <td></td>\n",
              "      <td></td>\n",
              "      <td></td>\n",
              "      <td></td>\n",
              "      <td></td>\n",
              "      <td></td>\n",
              "      <td></td>\n",
              "      <td></td>\n",
              "      <td></td>\n",
              "      <td></td>\n",
              "      <td></td>\n",
              "      <td></td>\n",
              "      <td></td>\n",
              "      <td></td>\n",
              "      <td></td>\n",
              "      <td></td>\n",
              "      <td></td>\n",
              "      <td></td>\n",
              "      <td></td>\n",
              "      <td></td>\n",
              "      <td></td>\n",
              "      <td></td>\n",
              "      <td></td>\n",
              "      <td></td>\n",
              "      <td></td>\n",
              "      <td></td>\n",
              "      <td></td>\n",
              "      <td></td>\n",
              "    </tr>\n",
              "  </tbody>\n",
              "</table>\n",
              "</div>"
            ],
            "text/plain": [
              "   saison statut date_statut civil  ... especes autre_details autre montant_total\n",
              "80                                  ...                                          \n",
              "\n",
              "[1 rows x 62 columns]"
            ]
          },
          "metadata": {},
          "execution_count": 5
        }
      ]
    },
    {
      "cell_type": "code",
      "metadata": {
        "colab": {
          "base_uri": "https://localhost:8080/"
        },
        "id": "0y4C4cRLAhkn",
        "outputId": "777a3479-2bdd-4ab4-f0f8-aca952709cac"
      },
      "source": [
        "df_inscriptions = df_inscriptions[df_inscriptions['naissance']!='0000-00-00']\n",
        "df_inscriptions['naissance'].count()"
      ],
      "execution_count": null,
      "outputs": [
        {
          "output_type": "execute_result",
          "data": {
            "text/plain": [
              "79"
            ]
          },
          "metadata": {},
          "execution_count": 41
        }
      ]
    },
    {
      "cell_type": "code",
      "metadata": {
        "colab": {
          "base_uri": "https://localhost:8080/"
        },
        "id": "jS4F-0j0DfOD",
        "outputId": "ea623225-8818-421e-f426-b23d1cf709ce"
      },
      "source": [
        "df_inscriptions = df_inscriptions[df_inscriptions['naissance']!='']\n",
        "df_inscriptions['naissance'].count()"
      ],
      "execution_count": null,
      "outputs": [
        {
          "output_type": "execute_result",
          "data": {
            "text/plain": [
              "78"
            ]
          },
          "metadata": {},
          "execution_count": 42
        }
      ]
    },
    {
      "cell_type": "code",
      "metadata": {
        "id": "v-LGUT73-yvJ"
      },
      "source": [
        "from datetime import datetime\n",
        "df_inscriptions['naissance']= df_inscriptions[df_inscriptions['naissance']!='0000-00-00']['naissance'].\\\n",
        "apply(lambda x : datetime.strptime(x, '%Y-%m-%d').strftime('%d/%m/%Y'))"
      ],
      "execution_count": null,
      "outputs": []
    },
    {
      "cell_type": "code",
      "metadata": {
        "colab": {
          "base_uri": "https://localhost:8080/"
        },
        "id": "WvLLqErr_JA8",
        "outputId": "1ad82acc-2459-44ab-aece-a89a398aca2d"
      },
      "source": [
        "df_inscriptions['naissance']"
      ],
      "execution_count": null,
      "outputs": [
        {
          "output_type": "execute_result",
          "data": {
            "text/plain": [
              "1     28/05/1958\n",
              "2     09/02/1984\n",
              "3     31/01/1962\n",
              "4     04/06/2008\n",
              "5     18/10/1965\n",
              "         ...    \n",
              "75    30/10/1999\n",
              "76    25/01/2002\n",
              "77    24/04/2003\n",
              "78    09/09/1971\n",
              "79    22/10/1972\n",
              "Name: naissance, Length: 78, dtype: object"
            ]
          },
          "metadata": {},
          "execution_count": 44
        }
      ]
    },
    {
      "cell_type": "code",
      "metadata": {
        "id": "n8OcKItSAoaS"
      },
      "source": [
        "try :\n",
        "  inscription_reprocessed = worksheet.spreadsheet.worksheet('re-processed')\n",
        "  inscription_reprocessed.clear()\n",
        "except:\n",
        "  inscription_reprocessed = worksheet.spreadsheet.add_worksheet(title=\"re-processed\", rows=\"350\", cols=\"20\")"
      ],
      "execution_count": null,
      "outputs": []
    },
    {
      "cell_type": "code",
      "metadata": {
        "id": "ubVokHZNCcOl"
      },
      "source": [
        "from gspread_dataframe import set_with_dataframe\n",
        "set_with_dataframe(inscription_reprocessed, df_inscriptions)"
      ],
      "execution_count": null,
      "outputs": []
    },
    {
      "cell_type": "code",
      "metadata": {
        "id": "LEqigXh9EWBk"
      },
      "source": [
        ""
      ],
      "execution_count": null,
      "outputs": []
    }
  ]
}