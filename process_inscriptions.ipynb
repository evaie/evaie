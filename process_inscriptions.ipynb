{
  "nbformat": 4,
  "nbformat_minor": 0,
  "metadata": {
    "colab": {
      "name": "process-inscriptions.ipynb",
      "provenance": [],
      "include_colab_link": true
    },
    "kernelspec": {
      "name": "python3",
      "display_name": "Python 3"
    },
    "language_info": {
      "name": "python"
    }
  },
  "cells": [
    {
      "cell_type": "markdown",
      "metadata": {
        "id": "view-in-github",
        "colab_type": "text"
      },
      "source": [
        "<a href=\"https://colab.research.google.com/github/evaie/evaie/blob/main/process_inscriptions.ipynb\" target=\"_parent\"><img src=\"https://colab.research.google.com/assets/colab-badge.svg\" alt=\"Open In Colab\"/></a>"
      ]
    },
    {
      "cell_type": "markdown",
      "metadata": {
        "id": "sgCDopRW5xNs"
      },
      "source": [
        "Get authentication for reading the google sheet"
      ]
    },
    {
      "cell_type": "code",
      "metadata": {
        "id": "WwUp89F40UXr"
      },
      "source": [
        "from google.colab import auth\n",
        "auth.authenticate_user()\n",
        "\n",
        "import gspread\n",
        "from oauth2client.client import GoogleCredentials\n",
        "\n",
        "gc = gspread.authorize(GoogleCredentials.get_application_default())"
      ],
      "execution_count": null,
      "outputs": []
    },
    {
      "cell_type": "markdown",
      "metadata": {
        "id": "A4fwLrb155LC"
      },
      "source": [
        "Read the google sheet and transform it in a dataframe properly\n"
      ]
    },
    {
      "cell_type": "code",
      "metadata": {
        "id": "rDNpHoAQ0aNJ"
      },
      "source": [
        "worksheet = gc.open_by_url('https://docs.google.com/spreadsheets/d/1SCruyMO_mncyvIF8kA9HEN2cTabM8ge3Mj2Ia_yG8Uk/edit#gid=464665913').sheet1\n",
        "\n",
        "# get_all_values gives a list of rows.\n",
        "rows = worksheet.get_all_values()\n",
        "\n",
        "import pandas as pd\n",
        "df_inscriptions = pd.DataFrame.from_records(rows,columns=rows[0])\n",
        "df_inscriptions = df_inscriptions.drop(0).reindex()"
      ],
      "execution_count": null,
      "outputs": []
    },
    {
      "cell_type": "markdown",
      "metadata": {
        "id": "1DyO5byL6IXS"
      },
      "source": [
        "detect the malformed naissance columsns and change the date formate"
      ]
    },
    {
      "cell_type": "code",
      "metadata": {
        "colab": {
          "base_uri": "https://localhost:8080/",
          "height": 411
        },
        "id": "VjRDC6gA26rV",
        "outputId": "065a324a-4928-4f3a-cf10-d840c86b6ff0"
      },
      "source": [
        "df_inscriptions.dropna()\n",
        "df_inscriptions['naissance'].count()\n",
        "df_ddl_1 = df_inscriptions[df_inscriptions['naissance']=='0000-00-00']\n",
        "df_ddl_1"
      ],
      "execution_count": null,
      "outputs": [
        {
          "output_type": "execute_result",
          "data": {
            "text/html": [
              "<div>\n",
              "<style scoped>\n",
              "    .dataframe tbody tr th:only-of-type {\n",
              "        vertical-align: middle;\n",
              "    }\n",
              "\n",
              "    .dataframe tbody tr th {\n",
              "        vertical-align: top;\n",
              "    }\n",
              "\n",
              "    .dataframe thead th {\n",
              "        text-align: right;\n",
              "    }\n",
              "</style>\n",
              "<table border=\"1\" class=\"dataframe\">\n",
              "  <thead>\n",
              "    <tr style=\"text-align: right;\">\n",
              "      <th></th>\n",
              "      <th>saison</th>\n",
              "      <th>statut</th>\n",
              "      <th>date_statut</th>\n",
              "      <th>civil</th>\n",
              "      <th>nom</th>\n",
              "      <th>prenom</th>\n",
              "      <th>email</th>\n",
              "      <th>tel</th>\n",
              "      <th>adresse</th>\n",
              "      <th>cp</th>\n",
              "      <th>ville</th>\n",
              "      <th>pays</th>\n",
              "      <th>nationalite</th>\n",
              "      <th>naissance</th>\n",
              "      <th>profession</th>\n",
              "      <th>entreprise</th>\n",
              "      <th>parent1_civil</th>\n",
              "      <th>parent1_nom</th>\n",
              "      <th>parent1_prenom</th>\n",
              "      <th>parent1_email</th>\n",
              "      <th>parent1_tel</th>\n",
              "      <th>parent2_civil</th>\n",
              "      <th>parent2_nom</th>\n",
              "      <th>parent2_prenom</th>\n",
              "      <th>parent2_email</th>\n",
              "      <th>parent2_tel</th>\n",
              "      <th>contact_civil</th>\n",
              "      <th>contact_nom</th>\n",
              "      <th>contact_prenom</th>\n",
              "      <th>contact_email</th>\n",
              "      <th>contact_tel</th>\n",
              "      <th>docteur_nom</th>\n",
              "      <th>docteur_date</th>\n",
              "      <th>handicap</th>\n",
              "      <th>reglement</th>\n",
              "      <th>documentation</th>\n",
              "      <th>benevolat</th>\n",
              "      <th>nager</th>\n",
              "      <th>assurance</th>\n",
              "      <th>type</th>\n",
              "      <th>licence</th>\n",
              "      <th>categorie</th>\n",
              "      <th>garage</th>\n",
              "      <th>optioncomp</th>\n",
              "      <th>montant</th>\n",
              "      <th>reduction</th>\n",
              "      <th>motifreduction</th>\n",
              "      <th>netapayer</th>\n",
              "      <th>paiement_helloasso</th>\n",
              "      <th>virement</th>\n",
              "      <th>cheque</th>\n",
              "      <th>nbcheques</th>\n",
              "      <th>chequesvacances</th>\n",
              "      <th>couponsport</th>\n",
              "      <th>pass92</th>\n",
              "      <th>caution_nom</th>\n",
              "      <th>caution</th>\n",
              "      <th>especes</th>\n",
              "      <th>autre_details</th>\n",
              "      <th>autre</th>\n",
              "      <th>montant_total</th>\n",
              "    </tr>\n",
              "  </thead>\n",
              "  <tbody>\n",
              "    <tr>\n",
              "      <th>47</th>\n",
              "      <td>2021-2022</td>\n",
              "      <td>Validé</td>\n",
              "      <td>2021-09-22 15:55:35</td>\n",
              "      <td>Monsieur</td>\n",
              "      <td>EXBRAYAT</td>\n",
              "      <td>JEAN-LOUIS</td>\n",
              "      <td>jexbrayat@icloud.com</td>\n",
              "      <td>06 69 05 22 63?</td>\n",
              "      <td>71 rue Victor Hugo</td>\n",
              "      <td>92400</td>\n",
              "      <td>Courbevoie</td>\n",
              "      <td>FR</td>\n",
              "      <td>FR</td>\n",
              "      <td>0000-00-00</td>\n",
              "      <td>retrairé</td>\n",
              "      <td></td>\n",
              "      <td></td>\n",
              "      <td></td>\n",
              "      <td></td>\n",
              "      <td></td>\n",
              "      <td></td>\n",
              "      <td></td>\n",
              "      <td></td>\n",
              "      <td></td>\n",
              "      <td></td>\n",
              "      <td></td>\n",
              "      <td>Madame</td>\n",
              "      <td>EXBRAYAT</td>\n",
              "      <td>ELYANE</td>\n",
              "      <td>elexbrayat@gmail.com</td>\n",
              "      <td>06 64 26 24 16?</td>\n",
              "      <td>Fanny Exbrayat</td>\n",
              "      <td>2020-09-04</td>\n",
              "      <td>non</td>\n",
              "      <td>on</td>\n",
              "      <td>on</td>\n",
              "      <td>on</td>\n",
              "      <td>on</td>\n",
              "      <td>on</td>\n",
              "      <td>renouvellement</td>\n",
              "      <td>432020</td>\n",
              "      <td>Séniors + Loisirs + CE</td>\n",
              "      <td>non</td>\n",
              "      <td>non</td>\n",
              "      <td>460.00</td>\n",
              "      <td>0.00</td>\n",
              "      <td></td>\n",
              "      <td>460.00</td>\n",
              "      <td>0.00</td>\n",
              "      <td>0.00</td>\n",
              "      <td>460.00</td>\n",
              "      <td>1</td>\n",
              "      <td>0.00</td>\n",
              "      <td>0.00</td>\n",
              "      <td>0.00</td>\n",
              "      <td></td>\n",
              "      <td>0.00</td>\n",
              "      <td>0.00</td>\n",
              "      <td></td>\n",
              "      <td>0.00</td>\n",
              "      <td>460.00</td>\n",
              "    </tr>\n",
              "    <tr>\n",
              "      <th>69</th>\n",
              "      <td>2021-2022</td>\n",
              "      <td>Validé</td>\n",
              "      <td>2021-09-25 09:20:07</td>\n",
              "      <td>Monsieur</td>\n",
              "      <td>GUG</td>\n",
              "      <td>PASCAL</td>\n",
              "      <td>pascalgugperso@orange.fr</td>\n",
              "      <td>607481660</td>\n",
              "      <td>60 avenue GALLIENI</td>\n",
              "      <td>92400</td>\n",
              "      <td>COURBEVOIE</td>\n",
              "      <td>FR</td>\n",
              "      <td>FR</td>\n",
              "      <td>0000-00-00</td>\n",
              "      <td>Avocat</td>\n",
              "      <td>Retraité</td>\n",
              "      <td></td>\n",
              "      <td></td>\n",
              "      <td></td>\n",
              "      <td></td>\n",
              "      <td></td>\n",
              "      <td></td>\n",
              "      <td></td>\n",
              "      <td></td>\n",
              "      <td></td>\n",
              "      <td></td>\n",
              "      <td>Madame</td>\n",
              "      <td>GUG</td>\n",
              "      <td>ANNIE</td>\n",
              "      <td>anniechentrier.perso@orange.fr</td>\n",
              "      <td>643083818</td>\n",
              "      <td></td>\n",
              "      <td>0000-00-00</td>\n",
              "      <td>non</td>\n",
              "      <td>on</td>\n",
              "      <td>on</td>\n",
              "      <td>on</td>\n",
              "      <td>on</td>\n",
              "      <td>on</td>\n",
              "      <td>renouvellement</td>\n",
              "      <td></td>\n",
              "      <td>Séniors + Loisirs + CE</td>\n",
              "      <td>non</td>\n",
              "      <td>non</td>\n",
              "      <td>460.00</td>\n",
              "      <td>0.00</td>\n",
              "      <td></td>\n",
              "      <td>460.00</td>\n",
              "      <td>0.00</td>\n",
              "      <td>0.00</td>\n",
              "      <td>460.00</td>\n",
              "      <td>1</td>\n",
              "      <td>0.00</td>\n",
              "      <td>0.00</td>\n",
              "      <td>0.00</td>\n",
              "      <td></td>\n",
              "      <td>0.00</td>\n",
              "      <td>0.00</td>\n",
              "      <td></td>\n",
              "      <td>0.00</td>\n",
              "      <td>460.00</td>\n",
              "    </tr>\n",
              "    <tr>\n",
              "      <th>85</th>\n",
              "      <td>2021-2022</td>\n",
              "      <td>Validé</td>\n",
              "      <td>2021-09-22 16:06:25</td>\n",
              "      <td>Monsieur</td>\n",
              "      <td>KALDY</td>\n",
              "      <td>PIERRE</td>\n",
              "      <td>pkaldy@laposte.net0</td>\n",
              "      <td>783192237</td>\n",
              "      <td>74 rue Duhesme</td>\n",
              "      <td>75018</td>\n",
              "      <td>Paris</td>\n",
              "      <td>FR</td>\n",
              "      <td>FR</td>\n",
              "      <td>0000-00-00</td>\n",
              "      <td>journaliste scientifique</td>\n",
              "      <td></td>\n",
              "      <td></td>\n",
              "      <td></td>\n",
              "      <td></td>\n",
              "      <td></td>\n",
              "      <td></td>\n",
              "      <td></td>\n",
              "      <td></td>\n",
              "      <td></td>\n",
              "      <td></td>\n",
              "      <td></td>\n",
              "      <td>Madame</td>\n",
              "      <td>KALDY</td>\n",
              "      <td>FRANÇOISE</td>\n",
              "      <td>francoisem13@hotmail.com</td>\n",
              "      <td>607910694</td>\n",
              "      <td>Anne-Sophie Laugier</td>\n",
              "      <td>2019-09-04</td>\n",
              "      <td>non</td>\n",
              "      <td>on</td>\n",
              "      <td>on</td>\n",
              "      <td>on</td>\n",
              "      <td>on</td>\n",
              "      <td>on</td>\n",
              "      <td>renouvellement</td>\n",
              "      <td>141819</td>\n",
              "      <td>Séniors + Loisirs + CE</td>\n",
              "      <td>non</td>\n",
              "      <td>non</td>\n",
              "      <td>480.00</td>\n",
              "      <td>0.00</td>\n",
              "      <td></td>\n",
              "      <td>480.00</td>\n",
              "      <td>0.00</td>\n",
              "      <td>0.00</td>\n",
              "      <td>480.00</td>\n",
              "      <td>1</td>\n",
              "      <td>0.00</td>\n",
              "      <td>0.00</td>\n",
              "      <td>0.00</td>\n",
              "      <td></td>\n",
              "      <td>0.00</td>\n",
              "      <td>0.00</td>\n",
              "      <td></td>\n",
              "      <td>0.00</td>\n",
              "      <td>480.00</td>\n",
              "    </tr>\n",
              "    <tr>\n",
              "      <th>101</th>\n",
              "      <td>2021-2022</td>\n",
              "      <td>Validé</td>\n",
              "      <td>2021-09-24 17:47:29</td>\n",
              "      <td>Monsieur</td>\n",
              "      <td>MEREL</td>\n",
              "      <td>ROMÉO</td>\n",
              "      <td>celine.morel864@orange.fr</td>\n",
              "      <td>787326266</td>\n",
              "      <td>4, rue Héreold</td>\n",
              "      <td>92250</td>\n",
              "      <td>La Garenne Colombes</td>\n",
              "      <td>FR</td>\n",
              "      <td>FR</td>\n",
              "      <td>0000-00-00</td>\n",
              "      <td>classe de 3ème</td>\n",
              "      <td>La Trinité Neuilly</td>\n",
              "      <td>Madame</td>\n",
              "      <td>MEREL</td>\n",
              "      <td>CÉLINE</td>\n",
              "      <td>celine.morel864@orange.fr</td>\n",
              "      <td>626553638</td>\n",
              "      <td>Monsieur</td>\n",
              "      <td>MEREL</td>\n",
              "      <td>PHILIPPE</td>\n",
              "      <td>philippe.merel4@wanadoo.fr</td>\n",
              "      <td>612992415</td>\n",
              "      <td>Madame</td>\n",
              "      <td>MEREL</td>\n",
              "      <td>CÉLINE</td>\n",
              "      <td>celine.morel864@orange.fr</td>\n",
              "      <td>626553638</td>\n",
              "      <td>Pillard</td>\n",
              "      <td>0000-00-00</td>\n",
              "      <td>non</td>\n",
              "      <td>on</td>\n",
              "      <td>on</td>\n",
              "      <td>on</td>\n",
              "      <td>on</td>\n",
              "      <td>on</td>\n",
              "      <td>renouvellement</td>\n",
              "      <td>525123</td>\n",
              "      <td>J11 / J16 - né(e) en 2005 et après</td>\n",
              "      <td>non</td>\n",
              "      <td>non</td>\n",
              "      <td>330.00</td>\n",
              "      <td>60.00</td>\n",
              "      <td>pass 92</td>\n",
              "      <td>270.00</td>\n",
              "      <td>0.00</td>\n",
              "      <td>0.00</td>\n",
              "      <td>0.00</td>\n",
              "      <td>0</td>\n",
              "      <td>0.00</td>\n",
              "      <td>0.00</td>\n",
              "      <td>0.00</td>\n",
              "      <td></td>\n",
              "      <td>0.00</td>\n",
              "      <td>0.00</td>\n",
              "      <td></td>\n",
              "      <td>0.00</td>\n",
              "      <td>0.00</td>\n",
              "    </tr>\n",
              "    <tr>\n",
              "      <th>136</th>\n",
              "      <td>2021-2022</td>\n",
              "      <td>Validé</td>\n",
              "      <td>2021-09-22 16:37:08</td>\n",
              "      <td>Madame</td>\n",
              "      <td>TOKAR</td>\n",
              "      <td>OLENA</td>\n",
              "      <td>l_tokar@yahoo.com</td>\n",
              "      <td>622773052</td>\n",
              "      <td>17 bd Georges Seurat</td>\n",
              "      <td>92200</td>\n",
              "      <td>Neuilly-sur-Seine</td>\n",
              "      <td>FR</td>\n",
              "      <td>FR</td>\n",
              "      <td>0000-00-00</td>\n",
              "      <td>Consultante</td>\n",
              "      <td></td>\n",
              "      <td></td>\n",
              "      <td></td>\n",
              "      <td></td>\n",
              "      <td></td>\n",
              "      <td></td>\n",
              "      <td></td>\n",
              "      <td></td>\n",
              "      <td></td>\n",
              "      <td></td>\n",
              "      <td></td>\n",
              "      <td>Monsieur</td>\n",
              "      <td>HARBULA</td>\n",
              "      <td>PÉTER</td>\n",
              "      <td>pharbula@hotmail.com</td>\n",
              "      <td>616215594</td>\n",
              "      <td>Bordon</td>\n",
              "      <td>0000-00-00</td>\n",
              "      <td>non</td>\n",
              "      <td>on</td>\n",
              "      <td>on</td>\n",
              "      <td>on</td>\n",
              "      <td>on</td>\n",
              "      <td>on</td>\n",
              "      <td>renouvellement</td>\n",
              "      <td>549080</td>\n",
              "      <td>Séniors + Loisirs + CE</td>\n",
              "      <td>non</td>\n",
              "      <td>oui</td>\n",
              "      <td>480.00</td>\n",
              "      <td>220.00</td>\n",
              "      <td>Rando annulé (Descente de Cher)</td>\n",
              "      <td>260.00</td>\n",
              "      <td>0.00</td>\n",
              "      <td>0.00</td>\n",
              "      <td>0.00</td>\n",
              "      <td>0</td>\n",
              "      <td>260.00</td>\n",
              "      <td>0.00</td>\n",
              "      <td>0.00</td>\n",
              "      <td></td>\n",
              "      <td>0.00</td>\n",
              "      <td>0.00</td>\n",
              "      <td></td>\n",
              "      <td>0.00</td>\n",
              "      <td>260.00</td>\n",
              "    </tr>\n",
              "  </tbody>\n",
              "</table>\n",
              "</div>"
            ],
            "text/plain": [
              "        saison  statut          date_statut  ... autre_details autre montant_total\n",
              "47   2021-2022  Validé  2021-09-22 15:55:35  ...                0.00        460.00\n",
              "69   2021-2022  Validé  2021-09-25 09:20:07  ...                0.00        460.00\n",
              "85   2021-2022  Validé  2021-09-22 16:06:25  ...                0.00        480.00\n",
              "101  2021-2022  Validé  2021-09-24 17:47:29  ...                0.00          0.00\n",
              "136  2021-2022  Validé  2021-09-22 16:37:08  ...                0.00        260.00\n",
              "\n",
              "[5 rows x 61 columns]"
            ]
          },
          "metadata": {},
          "execution_count": 105
        }
      ]
    },
    {
      "cell_type": "code",
      "metadata": {
        "colab": {
          "base_uri": "https://localhost:8080/",
          "height": 69
        },
        "id": "fWysLb-FEqUH",
        "outputId": "7334f64f-7267-4fea-c6a8-5419ba78f29f"
      },
      "source": [
        "df_ddl_2 =df_inscriptions[df_inscriptions['naissance']=='']\n",
        "df_ddl_2"
      ],
      "execution_count": null,
      "outputs": [
        {
          "output_type": "execute_result",
          "data": {
            "text/html": [
              "<div>\n",
              "<style scoped>\n",
              "    .dataframe tbody tr th:only-of-type {\n",
              "        vertical-align: middle;\n",
              "    }\n",
              "\n",
              "    .dataframe tbody tr th {\n",
              "        vertical-align: top;\n",
              "    }\n",
              "\n",
              "    .dataframe thead th {\n",
              "        text-align: right;\n",
              "    }\n",
              "</style>\n",
              "<table border=\"1\" class=\"dataframe\">\n",
              "  <thead>\n",
              "    <tr style=\"text-align: right;\">\n",
              "      <th></th>\n",
              "      <th>saison</th>\n",
              "      <th>statut</th>\n",
              "      <th>date_statut</th>\n",
              "      <th>civil</th>\n",
              "      <th>nom</th>\n",
              "      <th>prenom</th>\n",
              "      <th>email</th>\n",
              "      <th>tel</th>\n",
              "      <th>adresse</th>\n",
              "      <th>cp</th>\n",
              "      <th>ville</th>\n",
              "      <th>pays</th>\n",
              "      <th>nationalite</th>\n",
              "      <th>naissance</th>\n",
              "      <th>profession</th>\n",
              "      <th>entreprise</th>\n",
              "      <th>parent1_civil</th>\n",
              "      <th>parent1_nom</th>\n",
              "      <th>parent1_prenom</th>\n",
              "      <th>parent1_email</th>\n",
              "      <th>parent1_tel</th>\n",
              "      <th>parent2_civil</th>\n",
              "      <th>parent2_nom</th>\n",
              "      <th>parent2_prenom</th>\n",
              "      <th>parent2_email</th>\n",
              "      <th>parent2_tel</th>\n",
              "      <th>contact_civil</th>\n",
              "      <th>contact_nom</th>\n",
              "      <th>contact_prenom</th>\n",
              "      <th>contact_email</th>\n",
              "      <th>contact_tel</th>\n",
              "      <th>docteur_nom</th>\n",
              "      <th>docteur_date</th>\n",
              "      <th>handicap</th>\n",
              "      <th>reglement</th>\n",
              "      <th>documentation</th>\n",
              "      <th>benevolat</th>\n",
              "      <th>nager</th>\n",
              "      <th>assurance</th>\n",
              "      <th>type</th>\n",
              "      <th>licence</th>\n",
              "      <th>categorie</th>\n",
              "      <th>garage</th>\n",
              "      <th>optioncomp</th>\n",
              "      <th>montant</th>\n",
              "      <th>reduction</th>\n",
              "      <th>motifreduction</th>\n",
              "      <th>netapayer</th>\n",
              "      <th>paiement_helloasso</th>\n",
              "      <th>virement</th>\n",
              "      <th>cheque</th>\n",
              "      <th>nbcheques</th>\n",
              "      <th>chequesvacances</th>\n",
              "      <th>couponsport</th>\n",
              "      <th>pass92</th>\n",
              "      <th>caution_nom</th>\n",
              "      <th>caution</th>\n",
              "      <th>especes</th>\n",
              "      <th>autre_details</th>\n",
              "      <th>autre</th>\n",
              "      <th>montant_total</th>\n",
              "    </tr>\n",
              "  </thead>\n",
              "  <tbody>\n",
              "  </tbody>\n",
              "</table>\n",
              "</div>"
            ],
            "text/plain": [
              "Empty DataFrame\n",
              "Columns: [saison, statut, date_statut, civil, nom, prenom, email, tel, adresse, cp, ville, pays, nationalite, naissance, profession, entreprise, parent1_civil, parent1_nom, parent1_prenom, parent1_email, parent1_tel, parent2_civil, parent2_nom, parent2_prenom, parent2_email, parent2_tel, contact_civil, contact_nom, contact_prenom, contact_email, contact_tel, docteur_nom, docteur_date, handicap, reglement, documentation, benevolat, nager, assurance, type, licence, categorie, garage, optioncomp, montant, reduction, motifreduction, netapayer, paiement_helloasso, virement, cheque, nbcheques, chequesvacances, couponsport, pass92, caution_nom, caution, especes, autre_details, autre, montant_total]\n",
              "Index: []"
            ]
          },
          "metadata": {},
          "execution_count": 106
        }
      ]
    },
    {
      "cell_type": "code",
      "metadata": {
        "id": "oIBV-kYHyWgr"
      },
      "source": [
        "df_inscriptions = df_inscriptions[df_inscriptions['naissance']!='0000-00-00']\n",
        "df_inscriptions = df_inscriptions[df_inscriptions['naissance']!='']"
      ],
      "execution_count": null,
      "outputs": []
    },
    {
      "cell_type": "code",
      "metadata": {
        "id": "v-LGUT73-yvJ"
      },
      "source": [
        "from datetime import datetime\n",
        "df_inscriptions['naissance']= df_inscriptions[df_inscriptions['naissance']!='0000-00-00']['naissance'].\\\n",
        "apply(lambda x : datetime.strptime(x, '%Y-%m-%d').strftime('%d/%m/%Y'))"
      ],
      "execution_count": null,
      "outputs": []
    },
    {
      "cell_type": "code",
      "metadata": {
        "id": "WvLLqErr_JA8"
      },
      "source": [
        "df_inscriptions['sexe'] = df_inscriptions['civil'].apply(lambda x : 'H' if x == 'Monsieur' else 'F')"
      ],
      "execution_count": null,
      "outputs": []
    },
    {
      "cell_type": "code",
      "metadata": {
        "id": "5_BkjpMGvsdd"
      },
      "source": [
        "df_inscriptions = df_inscriptions[df_inscriptions.columns.drop(list(df_inscriptions.filter(regex='^parent')))]\n",
        "df_inscriptions = df_inscriptions[df_inscriptions.columns.drop(list(df_inscriptions.filter(regex='^contact')))]\n",
        "df_inscriptions = df_inscriptions[df_inscriptions.columns.drop(list(df_inscriptions.filter(regex='[a-z]*cheque[a-z]*')))]\n",
        "df_inscriptions = df_inscriptions[df_inscriptions.columns.drop(['documentation', 'benevolat', 'nager', 'assurance',\\\n",
        "                                                                'caution_nom', 'caution', 'especes', 'autre_details',\\\n",
        "                                                                'montant_total','saison','statut','date_statut','profession',\\\n",
        "                                                                'entreprise','reglement','garage','montant','reduction',\\\n",
        "                                                                'motifreduction','netapayer', 'paiement_helloasso','virement',\\\n",
        "                                                                'couponsport','pass92','autre'])]"
      ],
      "execution_count": null,
      "outputs": []
    },
    {
      "cell_type": "code",
      "metadata": {
        "id": "2d1Wl3ca2Zpz"
      },
      "source": [
        "from datetime import date,timedelta\n",
        "yesterday = date.today() - timedelta(days=1)\n",
        "yester_str = yesterday.strftime('%Y-%m-%d')"
      ],
      "execution_count": null,
      "outputs": []
    },
    {
      "cell_type": "code",
      "metadata": {
        "id": "ts-8t3Ri4cHX"
      },
      "source": [
        "df_inscriptions['docteur_date'] = df_inscriptions['docteur_date'].apply(lambda x : yester_str if x =='0000-00-00' else x)"
      ],
      "execution_count": null,
      "outputs": []
    },
    {
      "cell_type": "code",
      "metadata": {
        "id": "vX12Ns205icD"
      },
      "source": [
        "from datetime import datetime\n",
        "df_inscriptions['docteur_date']= df_inscriptions['docteur_date'].apply(lambda x : datetime.strptime(x, '%Y-%m-%d').strftime('%d/%m/%Y'))"
      ],
      "execution_count": null,
      "outputs": []
    },
    {
      "cell_type": "code",
      "metadata": {
        "id": "yt9U1LU9awqR"
      },
      "source": [
        "def reprocess_add(input_str):\n",
        "  input_str = input_str.str.replace('?','  ')\n",
        "  #input_str = input_str.replace('\\n',' ')"
      ],
      "execution_count": null,
      "outputs": []
    },
    {
      "cell_type": "code",
      "metadata": {
        "id": "uk0JEc79711u"
      },
      "source": [
        "df_inscriptions['docteur_nom'] = df_inscriptions['docteur_nom'].str.upper()\n",
        "df_inscriptions['ville'] = df_inscriptions['ville'].str.upper()\n",
        "df_inscriptions['adresse'] = df_inscriptions['adresse'].str.upper()\n",
        "#df_inscriptions['adresse'] = df_inscriptions['adresse'].apply(lambda x : reprocess_add(x))\n",
        "#df_inscriptions['adresse'] = df_inscriptions['adresse'].apply(lambda x : reprocess_add(x))"
      ],
      "execution_count": null,
      "outputs": []
    },
    {
      "cell_type": "markdown",
      "metadata": {
        "id": "JEPF0LHOXtxJ"
      },
      "source": [
        "Split the address"
      ]
    },
    {
      "cell_type": "code",
      "metadata": {
        "id": "HqzyMKTHXsys"
      },
      "source": [
        "df_inscriptions['NumeroVoie'] = df_inscriptions['adresse'].str.split(n=2,expand=True)[0]\n",
        "df_inscriptions['TypeVoie'] = df_inscriptions['adresse'].str.split(n=2,expand=True)[1]\n",
        "df_inscriptions['LibelleVoie'] = df_inscriptions['adresse'].str.split(n=2,expand=True)[2]\n"
      ],
      "execution_count": null,
      "outputs": []
    },
    {
      "cell_type": "markdown",
      "metadata": {
        "id": "ToaIxnrmiif-"
      },
      "source": [
        "Read the tab with the licences already taken"
      ]
    },
    {
      "cell_type": "code",
      "metadata": {
        "colab": {
          "base_uri": "https://localhost:8080/",
          "height": 411
        },
        "id": "F9CA0Qlab9hT",
        "outputId": "56afad59-4b64-4095-ac74-da41de0e88fd"
      },
      "source": [
        "df_inscriptions.head()"
      ],
      "execution_count": null,
      "outputs": [
        {
          "output_type": "execute_result",
          "data": {
            "text/html": [
              "<div>\n",
              "<style scoped>\n",
              "    .dataframe tbody tr th:only-of-type {\n",
              "        vertical-align: middle;\n",
              "    }\n",
              "\n",
              "    .dataframe tbody tr th {\n",
              "        vertical-align: top;\n",
              "    }\n",
              "\n",
              "    .dataframe thead th {\n",
              "        text-align: right;\n",
              "    }\n",
              "</style>\n",
              "<table border=\"1\" class=\"dataframe\">\n",
              "  <thead>\n",
              "    <tr style=\"text-align: right;\">\n",
              "      <th></th>\n",
              "      <th>civil</th>\n",
              "      <th>nom</th>\n",
              "      <th>prenom</th>\n",
              "      <th>email</th>\n",
              "      <th>tel</th>\n",
              "      <th>adresse</th>\n",
              "      <th>cp</th>\n",
              "      <th>ville</th>\n",
              "      <th>pays</th>\n",
              "      <th>nationalite</th>\n",
              "      <th>naissance</th>\n",
              "      <th>docteur_nom</th>\n",
              "      <th>docteur_date</th>\n",
              "      <th>handicap</th>\n",
              "      <th>type</th>\n",
              "      <th>licence</th>\n",
              "      <th>categorie</th>\n",
              "      <th>optioncomp</th>\n",
              "      <th>sexe</th>\n",
              "      <th>NumeroVoie</th>\n",
              "      <th>TypeVoie</th>\n",
              "      <th>LibelleVoie</th>\n",
              "    </tr>\n",
              "  </thead>\n",
              "  <tbody>\n",
              "    <tr>\n",
              "      <th>1</th>\n",
              "      <td>Monsieur</td>\n",
              "      <td>ACHACHE</td>\n",
              "      <td>LAURENT</td>\n",
              "      <td>laurentachache@gmail.com</td>\n",
              "      <td>620806479</td>\n",
              "      <td>147 RUE DE JAVEL</td>\n",
              "      <td>75015</td>\n",
              "      <td>PARIS</td>\n",
              "      <td>FR</td>\n",
              "      <td>FR</td>\n",
              "      <td>23/08/1958</td>\n",
              "      <td>FRANCOISE BESSE</td>\n",
              "      <td>21/09/2020</td>\n",
              "      <td>non</td>\n",
              "      <td>renouvellement</td>\n",
              "      <td>38647</td>\n",
              "      <td>Séniors + Loisirs + CE</td>\n",
              "      <td>non</td>\n",
              "      <td>H</td>\n",
              "      <td>147</td>\n",
              "      <td>RUE</td>\n",
              "      <td>DE JAVEL</td>\n",
              "    </tr>\n",
              "    <tr>\n",
              "      <th>2</th>\n",
              "      <td>Monsieur</td>\n",
              "      <td>ALEXANDRE</td>\n",
              "      <td>OLIVIER</td>\n",
              "      <td>olivier.alexandre2@wanadoo.fr</td>\n",
              "      <td>676450830</td>\n",
              "      <td>115 RUE VICTOR HUGO</td>\n",
              "      <td>92270</td>\n",
              "      <td>BOIS-COLOMBES</td>\n",
              "      <td>FR</td>\n",
              "      <td>FR</td>\n",
              "      <td>28/05/1958</td>\n",
              "      <td>GAUZERAN</td>\n",
              "      <td>18/06/2021</td>\n",
              "      <td>non</td>\n",
              "      <td>renouvellement</td>\n",
              "      <td>44215</td>\n",
              "      <td>Séniors + Loisirs + CE</td>\n",
              "      <td>non</td>\n",
              "      <td>H</td>\n",
              "      <td>115</td>\n",
              "      <td>RUE</td>\n",
              "      <td>VICTOR HUGO</td>\n",
              "    </tr>\n",
              "    <tr>\n",
              "      <th>3</th>\n",
              "      <td>Monsieur</td>\n",
              "      <td>ALVIN</td>\n",
              "      <td>MAXIMILIEN</td>\n",
              "      <td>m.alvin@orange.fr</td>\n",
              "      <td>648752437</td>\n",
              "      <td>17 AVENUE DE CHANTILLY</td>\n",
              "      <td>60300</td>\n",
              "      <td>SENLIS</td>\n",
              "      <td>FR</td>\n",
              "      <td>FR</td>\n",
              "      <td>09/02/1984</td>\n",
              "      <td>CHRISTOPHE BEAUBE</td>\n",
              "      <td>09/09/2021</td>\n",
              "      <td>non</td>\n",
              "      <td>renouvellement</td>\n",
              "      <td>244705</td>\n",
              "      <td>Séniors + Loisirs + CE</td>\n",
              "      <td>non</td>\n",
              "      <td>H</td>\n",
              "      <td>17</td>\n",
              "      <td>AVENUE</td>\n",
              "      <td>DE CHANTILLY</td>\n",
              "    </tr>\n",
              "    <tr>\n",
              "      <th>4</th>\n",
              "      <td>Madame</td>\n",
              "      <td>ANDRE</td>\n",
              "      <td>DAPHNÉ</td>\n",
              "      <td>daphne.andre09@gmail.com</td>\n",
              "      <td>788590780</td>\n",
              "      <td>103 RUE RAYMOND RIDEL</td>\n",
              "      <td>92400</td>\n",
              "      <td>COURBEVOIE</td>\n",
              "      <td>FR</td>\n",
              "      <td>FR</td>\n",
              "      <td>28/06/2009</td>\n",
              "      <td>MANTEAU</td>\n",
              "      <td>08/10/2019</td>\n",
              "      <td>non</td>\n",
              "      <td>renouvellement</td>\n",
              "      <td>539073</td>\n",
              "      <td>J11 / J16 - né(e) en 2005 et après</td>\n",
              "      <td>non</td>\n",
              "      <td>F</td>\n",
              "      <td>103</td>\n",
              "      <td>RUE</td>\n",
              "      <td>RAYMOND RIDEL</td>\n",
              "    </tr>\n",
              "    <tr>\n",
              "      <th>5</th>\n",
              "      <td>Madame</td>\n",
              "      <td>ANDREAN</td>\n",
              "      <td>CHARLOTTE</td>\n",
              "      <td>charlotte.portmann@gmail.com</td>\n",
              "      <td>629462075</td>\n",
              "      <td>133 AVENUE DE LA RÉPUBLIQUE</td>\n",
              "      <td>92400</td>\n",
              "      <td>COURBEVOIE</td>\n",
              "      <td>FR</td>\n",
              "      <td>FR</td>\n",
              "      <td>13/03/1974</td>\n",
              "      <td>ANNE PETIT</td>\n",
              "      <td>28/05/2021</td>\n",
              "      <td>non</td>\n",
              "      <td>adhésion</td>\n",
              "      <td></td>\n",
              "      <td>Séniors + Loisirs + CE</td>\n",
              "      <td>non</td>\n",
              "      <td>F</td>\n",
              "      <td>133</td>\n",
              "      <td>AVENUE</td>\n",
              "      <td>DE LA RÉPUBLIQUE</td>\n",
              "    </tr>\n",
              "  </tbody>\n",
              "</table>\n",
              "</div>"
            ],
            "text/plain": [
              "      civil        nom      prenom  ... NumeroVoie TypeVoie        LibelleVoie\n",
              "1  Monsieur    ACHACHE     LAURENT  ...        147      RUE           DE JAVEL\n",
              "2  Monsieur  ALEXANDRE     OLIVIER  ...        115      RUE        VICTOR HUGO\n",
              "3  Monsieur      ALVIN  MAXIMILIEN  ...         17   AVENUE       DE CHANTILLY\n",
              "4    Madame      ANDRE      DAPHNÉ  ...        103      RUE      RAYMOND RIDEL\n",
              "5    Madame    ANDREAN   CHARLOTTE  ...        133   AVENUE  DE LA RÉPUBLIQUE \n",
              "\n",
              "[5 rows x 22 columns]"
            ]
          },
          "metadata": {},
          "execution_count": 117
        }
      ]
    },
    {
      "cell_type": "code",
      "metadata": {
        "id": "sjhF6W2-irSL"
      },
      "source": [
        "worksheet = gc.open_by_url('https://docs.google.com/spreadsheets/d/1SCruyMO_mncyvIF8kA9HEN2cTabM8ge3Mj2Ia_yG8Uk/edit#gid=464665913').worksheet('licences_deja_prises')\n",
        "\n",
        "# get_all_values gives a list of rows.\n",
        "rows = worksheet.get_all_values()\n",
        "\n",
        "import pandas as pd\n",
        "df_licences = pd.DataFrame.from_records(rows,columns=rows[0])"
      ],
      "execution_count": null,
      "outputs": []
    },
    {
      "cell_type": "code",
      "metadata": {
        "id": "yu8pQZRNjTa8"
      },
      "source": [
        "df_licences = df_licences.drop(0).reindex()"
      ],
      "execution_count": null,
      "outputs": []
    },
    {
      "cell_type": "code",
      "metadata": {
        "id": "YuYdTOR3jaL1"
      },
      "source": [
        "import unicodedata\n",
        "\n",
        "def remove_accents(input_str):\n",
        "  # remove simple quote and '-\n",
        "  input_str = input_str.replace('\\'','')\n",
        "  input_str = input_str.replace('-','')\n",
        "  nfkd_form = unicodedata.normalize('NFKD', input_str)\n",
        "  return u\"\".join([c for c in nfkd_form if not unicodedata.combining(c)])"
      ],
      "execution_count": null,
      "outputs": []
    },
    {
      "cell_type": "markdown",
      "metadata": {
        "id": "UJP32KBLvr5K"
      },
      "source": [
        "remove the accent for 1st name and last name\n"
      ]
    },
    {
      "cell_type": "code",
      "metadata": {
        "id": "Qfc_HiE4vrNV"
      },
      "source": [
        "df_licences['NOM'] = df_licences['NOM'].apply(lambda x : remove_accents(x))\n",
        "df_licences['PRENOM'] = df_licences['PRENOM'].apply(lambda x : remove_accents(x))\n",
        "df_inscriptions['nom'] = df_inscriptions['nom'].apply(lambda x : remove_accents(x))\n",
        "df_inscriptions['prenom'] = df_inscriptions['prenom'].apply(lambda x : remove_accents(x))\n",
        "\n"
      ],
      "execution_count": null,
      "outputs": []
    },
    {
      "cell_type": "code",
      "metadata": {
        "id": "_LQOfsPIjsfM"
      },
      "source": [
        "df_licencies = pd.DataFrame(data=df_licences['NOM'] + '_' + df_licences['PRENOM'] + '_' + df_licences['DATE NAISSANCE'])"
      ],
      "execution_count": null,
      "outputs": []
    },
    {
      "cell_type": "markdown",
      "metadata": {
        "id": "-7KYoaiNtaDS"
      },
      "source": [
        "An then build a list of licenced persons"
      ]
    },
    {
      "cell_type": "code",
      "metadata": {
        "id": "Ee-gQtipk_WS"
      },
      "source": [
        "licencies = df_licencies.to_dict('list')[0]"
      ],
      "execution_count": null,
      "outputs": []
    },
    {
      "cell_type": "markdown",
      "metadata": {
        "id": "fadeFy3DmmN3"
      },
      "source": [
        "Check who already has a licence\n"
      ]
    },
    {
      "cell_type": "code",
      "metadata": {
        "id": "mSF-ooeCmkff"
      },
      "source": [
        "df_inscriptions['key'] = df_inscriptions['nom'] + '_' + df_inscriptions['prenom'] + '_' + df_inscriptions['naissance']\n",
        "df_inscriptions['licence_prise'] = df_inscriptions['key'].apply(lambda x : True if x in licencies else False)"
      ],
      "execution_count": null,
      "outputs": []
    },
    {
      "cell_type": "markdown",
      "metadata": {
        "id": "cu-3QmoSmdDV"
      },
      "source": [
        "Then save the result : only the licence not already taken"
      ]
    },
    {
      "cell_type": "code",
      "metadata": {
        "id": "BQwmZt8MnT8h"
      },
      "source": [
        "worksheet = gc.open_by_url('https://docs.google.com/spreadsheets/d/1SCruyMO_mncyvIF8kA9HEN2cTabM8ge3Mj2Ia_yG8Uk/edit#gid=464665913').worksheet(\"Fitogram\")\n",
        "\n",
        "# get_all_values gives a list of rows.\n",
        "rows = worksheet.get_all_values()\n",
        "\n",
        "import pandas as pd\n",
        "df_fito = pd.DataFrame.from_records(rows,columns=rows[8])\n",
        "df_fito = df_fito[df_fito['Nom']!=''].drop(8).drop(9)\n",
        "df_fito = df_fito[df_fito['Email']!='']"
      ],
      "execution_count": null,
      "outputs": []
    },
    {
      "cell_type": "code",
      "metadata": {
        "id": "J5zZJjSKthOg"
      },
      "source": [
        "l_fito = pd.DataFrame(df_fito['Email']).to_dict('list')['Email']"
      ],
      "execution_count": null,
      "outputs": []
    },
    {
      "cell_type": "markdown",
      "metadata": {
        "id": "OiwEd5cu1N4j"
      },
      "source": [
        "Then give a status to the Fitogram account by comparing the address mails\n"
      ]
    },
    {
      "cell_type": "code",
      "metadata": {
        "id": "uCY-1iPg1ZXB"
      },
      "source": [
        "df_inscriptions['is_in_fitogram'] = df_inscriptions['email'].apply(lambda x : True if x in l_fito else False)"
      ],
      "execution_count": null,
      "outputs": []
    },
    {
      "cell_type": "code",
      "metadata": {
        "id": "n8OcKItSAoaS"
      },
      "source": [
        "try :\n",
        "  inscription_reprocessed = worksheet.spreadsheet.worksheet('re-processed')\n",
        "  inscription_reprocessed.clear()\n",
        "except:\n",
        "  inscription_reprocessed = worksheet.spreadsheet.add_worksheet(title=\"re-processed\", rows=\"350\", cols=\"20\")\n",
        "\n",
        "from gspread_dataframe import set_with_dataframe\n",
        "#set_with_dataframe(inscription_reprocessed, df_inscriptions[df_inscriptions['licence_prise']==False])\n",
        "set_with_dataframe(inscription_reprocessed, df_inscriptions)"
      ],
      "execution_count": null,
      "outputs": []
    }
  ]
}