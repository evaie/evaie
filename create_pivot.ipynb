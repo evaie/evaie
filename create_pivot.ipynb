{
  "nbformat": 4,
  "nbformat_minor": 0,
  "metadata": {
    "colab": {
      "name": "create_pivot.ipynb",
      "provenance": [],
      "include_colab_link": true
    },
    "kernelspec": {
      "name": "python3",
      "display_name": "Python 3"
    },
    "language_info": {
      "name": "python"
    }
  },
  "cells": [
    {
      "cell_type": "markdown",
      "metadata": {
        "id": "view-in-github",
        "colab_type": "text"
      },
      "source": [
        "<a href=\"https://colab.research.google.com/github/evaie/evaie/blob/main/create_pivot.ipynb\" target=\"_parent\"><img src=\"https://colab.research.google.com/assets/colab-badge.svg\" alt=\"Open In Colab\"/></a>"
      ]
    },
    {
      "cell_type": "code",
      "metadata": {
        "id": "CJSF-SQrhBgd"
      },
      "source": [
        "from google.colab import auth\n",
        "auth.authenticate_user()\n",
        "\n",
        "import gspread\n",
        "from oauth2client.client import GoogleCredentials\n",
        "\n",
        "gc = gspread.authorize(GoogleCredentials.get_application_default())"
      ],
      "execution_count": null,
      "outputs": []
    },
    {
      "cell_type": "code",
      "metadata": {
        "id": "g2z0VBnahOvx"
      },
      "source": [
        "worksheet = gc.open_by_url('https://docs.google.com/spreadsheets/d/1SCruyMO_mncyvIF8kA9HEN2cTabM8ge3Mj2Ia_yG8Uk/edit#gid=464665913').sheet1\n",
        "\n",
        "# get_all_values gives a list of rows.\n",
        "rows = worksheet.get_all_values()\n",
        "\n",
        "import pandas as pd\n",
        "df_inscriptions = pd.DataFrame.from_records(rows,columns=rows[0])\n",
        "df_inscriptions = df_inscriptions.drop(0).reindex()"
      ],
      "execution_count": null,
      "outputs": []
    },
    {
      "cell_type": "code",
      "metadata": {
        "id": "TWB53WFghS1v"
      },
      "source": [
        "worksheet_licence = gc.open_by_url('https://docs.google.com/spreadsheets/d/1kuO7TqlO3a7u6lxb2yAQ49x9viQJoGE2-6CLFDGCv8Y/edit#gid=2099436513').sheet1\n",
        "\n",
        "# get_all_values gives a list of rows.\n",
        "rows_licences = worksheet_licence.get_all_values()\n",
        "\n",
        "import pandas as pd\n",
        "df_licences = pd.DataFrame.from_records(rows_licences,columns=rows_licences[0])\n",
        "df_licences = df_licences.drop(0).reindex()"
      ],
      "execution_count": null,
      "outputs": []
    },
    {
      "cell_type": "code",
      "metadata": {
        "colab": {
          "base_uri": "https://localhost:8080/"
        },
        "id": "qBLTbVLJi_Wg",
        "outputId": "e423a4e7-9f17-40c4-99f3-6114a1f5c026"
      },
      "source": [
        "df_inscriptions.columns"
      ],
      "execution_count": null,
      "outputs": [
        {
          "output_type": "execute_result",
          "data": {
            "text/plain": [
              "Index(['saison', 'statut', 'date_statut', 'civil', 'nom', 'prenom', 'Licence',\n",
              "       'email', 'tel', 'adresse', 'cp', 'ville', 'pays', 'nationalite',\n",
              "       'naissance', 'profession', 'entreprise', 'parent1_civil', 'parent1_nom',\n",
              "       'parent1_prenom', 'parent1_email', 'parent1_tel', 'parent2_civil',\n",
              "       'parent2_nom', 'parent2_prenom', 'parent2_email', 'parent2_tel',\n",
              "       'contact_civil', 'contact_nom', 'contact_prenom', 'contact_email',\n",
              "       'contact_tel', 'docteur_nom', 'docteur_date', 'handicap', 'reglement',\n",
              "       'documentation', 'benevolat', 'nager', 'assurance', 'type', 'licence',\n",
              "       'categorie', 'garage', 'optioncomp', 'montant', 'reduction',\n",
              "       'motifreduction', 'netapayer', 'paiement_helloasso', 'virement',\n",
              "       'cheque', 'nbcheques', 'chequesvacances', 'couponsport', 'pass92',\n",
              "       'caution_nom', 'caution', 'especes', 'autre_details', 'autre',\n",
              "       'montant_total'],\n",
              "      dtype='object')"
            ]
          },
          "metadata": {},
          "execution_count": 39
        }
      ]
    },
    {
      "cell_type": "code",
      "metadata": {
        "colab": {
          "base_uri": "https://localhost:8080/"
        },
        "id": "WhiktZdajGM2",
        "outputId": "7d3da924-9423-468b-b344-1ebd9e0a80b1"
      },
      "source": [
        "df_licences.columns"
      ],
      "execution_count": null,
      "outputs": [
        {
          "output_type": "execute_result",
          "data": {
            "text/plain": [
              "Index(['No adherent', 'Nom', 'Prenom', 'Date naissance', 'Sexe',\n",
              "       'Diffusion adresse', 'Categorie licence', 'Adresse 1', 'Adresse 2',\n",
              "       'Adresse 3', 'Adresse 4', 'Code postal', 'Ville', 'Pays', 'N Tel',\n",
              "       'Autre Tel', 'Email', 'Autre Email', 'Mobile', 'Autre Mobile',\n",
              "       'Code insee', 'No Str', 'Nom Structure', 'Ligue', 'CD',\n",
              "       'Date de saisie', 'Categorie Age', 'Date certificat medical',\n",
              "       'Date certificat surclassement', 'Sport corporatif', 'Mutation',\n",
              "       'Championnat France (hors indoor)',\n",
              "       'Brevet d'aviron Eaux intérieures - Niveau 1',\n",
              "       'Brevet d'aviron Eaux intérieures - Niveau 2',\n",
              "       'Brevet d'aviron Eaux intérieures - Niveau 3',\n",
              "       'Brevet d'aviron Eaux intérieures - Pointe',\n",
              "       'Brevet d'aviron Eaux intérieures - Compétition',\n",
              "       'Brevet de Barreur Eaux intérieures',\n",
              "       'Brevet d'endurance Eaux intérieures 10 km - Équipage',\n",
              "       'Brevet d'endurance Eaux intérieures 10 km - Individuel',\n",
              "       'Brevet d'endurance Eaux intérieures Semi-marathon ? Équipage',\n",
              "       'Brevet d'endurance Eaux intérieures Semi-marathon - Individuel',\n",
              "       'Brevet d'endurance Eaux intérieures Marathon - Équipage',\n",
              "       'Brevet d'endurance Eaux intérieures Marathon - Individuel',\n",
              "       'Brevet d'aviron de Mer - Niveau 1',\n",
              "       'Brevet d'aviron de Mer ? Niveau 2',\n",
              "       'Brevet d'aviron de Mer ? Niveau 3',\n",
              "       'Brevet d'aviron de Mer ? 3 Beaufort',\n",
              "       'Brevet d'aviron de Mer ? 5 Beaufort', 'Brevet de Barreur Mer',\n",
              "       'Brevet d'endurance Mer 10 km - Équipage',\n",
              "       'Brevet d'endurance Mer 10 km - Individuel',\n",
              "       'Brevet d'endurance Mer Semi-marathon - Équipage',\n",
              "       'Brevet d'endurance Mer Semi-marathon - Individuel',\n",
              "       'Brevet d'endurance Mer Marathon - Équipage',\n",
              "       'Brevet d'endurance Mer Marathon - Individuel',\n",
              "       'Brevet d'aviron Indoor ? Niveau 1',\n",
              "       'Brevet d'aviron Indoor ? Niveau 2',\n",
              "       'Brevet d'endurance Indoor 10 km - Équipe',\n",
              "       'Brevet d'endurance Indoor 10 km - Individuel',\n",
              "       'Brevet d'endurance Indoor Semi-marathon - Équipe',\n",
              "       'Brevet d'endurance Indoor Semi-marathon - Individuel',\n",
              "       'Brevet d'endurance Indoor Marathon - Équipe',\n",
              "       'Brevet d'endurance Indoor Marathon - Individuel',\n",
              "       'Brevet d'aviron Banc fixe ? Niveau 1',\n",
              "       'Brevet d'aviron Banc fixe ? Niveau 2',\n",
              "       'Brevet d'aviron Banc fixe ? Niveau 3',\n",
              "       'Brevet d'aviron Banc fixe ? 3 Beaufort',\n",
              "       'Brevet d'aviron Banc fixe ? 5 Beaufort', 'Brevet de Barreur Banc fixe',\n",
              "       'Brevet d'endurance Banc fixe 10 km - Équipage',\n",
              "       'Brevet d'endurance Banc fixe Semi-marathon - Équipage',\n",
              "       'Brevet d'endurance Banc fixe Marathon - Équipage',\n",
              "       'Brevet d'aviron Handicaps - Autonomie',\n",
              "       'Brevet d'aviron Handicaps - Compétition', 'Porteur d'un handicap',\n",
              "       'Type de handicap', 'Classification envisagee', 'Classification',\n",
              "       'Sous-classification', 'Classification VI', 'Niveau classification',\n",
              "       'Mode Saisie'],\n",
              "      dtype='object')"
            ]
          },
          "metadata": {},
          "execution_count": 40
        }
      ]
    },
    {
      "cell_type": "code",
      "metadata": {
        "id": "fX6vVEL5kFd4"
      },
      "source": [
        "df_licences = df_licences[df_licences.columns.drop(list(df_licences.filter(regex='^Brevet')))]\n",
        "df_inscriptions = df_inscriptions[df_inscriptions.columns.drop(list(df_inscriptions.filter(regex='^parent')))]\n",
        "df_inscriptions = df_inscriptions[df_inscriptions.columns.drop(list(df_inscriptions.filter(regex='[a-z]*cheque[a-z]*')))]\n",
        "df_inscriptions = df_inscriptions[df_inscriptions.columns.drop(['documentation', 'benevolat', 'nager', 'assurance','caution_nom', 'caution', 'especes', 'autre_details','montant_total'])]\n"
      ],
      "execution_count": null,
      "outputs": []
    },
    {
      "cell_type": "code",
      "metadata": {
        "id": "6iYBOv2SlzMu"
      },
      "source": [
        "d = {'snbs' : df_inscriptions.columns, 'ffa' : df_licences.columns}"
      ],
      "execution_count": null,
      "outputs": []
    },
    {
      "cell_type": "code",
      "metadata": {
        "colab": {
          "base_uri": "https://localhost:8080/"
        },
        "id": "FVKdZoarmXdN",
        "outputId": "22d7ffff-1218-49ce-dd25-d89407df8063"
      },
      "source": [
        "print(len(d['ffa']))\n",
        "print(len(d['snbs']))"
      ],
      "execution_count": null,
      "outputs": [
        {
          "output_type": "stream",
          "name": "stdout",
          "text": [
            "40\n",
            "40\n"
          ]
        }
      ]
    },
    {
      "cell_type": "code",
      "metadata": {
        "id": "GmM8HDv3p2NV"
      },
      "source": [
        "df_pivot = pd.DataFrame(data=d)"
      ],
      "execution_count": null,
      "outputs": []
    },
    {
      "cell_type": "code",
      "metadata": {
        "id": "TiSqo_5qhqIi"
      },
      "source": [
        "try :\n",
        "  pivot = worksheet.spreadsheet.worksheet('pivot')\n",
        "  pivot.clear()\n",
        "except:\n",
        "  pivot = worksheet.spreadsheet.add_worksheet(title=\"pivot\", rows=\"100\", cols=\"20\")"
      ],
      "execution_count": null,
      "outputs": []
    },
    {
      "cell_type": "code",
      "metadata": {
        "id": "AzozdHncp8hN"
      },
      "source": [
        "from gspread_dataframe import set_with_dataframe\n",
        "set_with_dataframe(pivot, df_pivot)"
      ],
      "execution_count": null,
      "outputs": []
    },
    {
      "cell_type": "code",
      "metadata": {
        "id": "KVDztAaIqELK"
      },
      "source": [
        ""
      ],
      "execution_count": null,
      "outputs": []
    }
  ]
}