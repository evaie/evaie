{
  "nbformat": 4,
  "nbformat_minor": 0,
  "metadata": {
    "colab": {
      "name": "process_reperes",
      "provenance": [],
      "authorship_tag": "ABX9TyPeBOQo0zCfZoVKjtXMQiJZ",
      "include_colab_link": true
    },
    "kernelspec": {
      "name": "python3",
      "display_name": "Python 3"
    },
    "language_info": {
      "name": "python"
    }
  },
  "cells": [
    {
      "cell_type": "markdown",
      "metadata": {
        "id": "view-in-github",
        "colab_type": "text"
      },
      "source": [
        "<a href=\"https://colab.research.google.com/github/evaie/evaie/blob/main/process_reperes.ipynb\" target=\"_parent\"><img src=\"https://colab.research.google.com/assets/colab-badge.svg\" alt=\"Open In Colab\"/></a>"
      ]
    },
    {
      "cell_type": "markdown",
      "metadata": {
        "id": "nKcTDp9NsHWx"
      },
      "source": [
        "Find Mattieu's file and read it into a dataframe\n"
      ]
    },
    {
      "cell_type": "code",
      "metadata": {
        "id": "K4rsDYrFr8GR"
      },
      "source": [
        "from pydrive.auth import GoogleAuth\n",
        "from pydrive.drive import GoogleDrive\n",
        "from google.colab import auth\n",
        "from oauth2client.client import GoogleCredentials\n",
        "\n",
        "# authenticate the user\n",
        "auth.authenticate_user()\n",
        "gauth = GoogleAuth()\n",
        "gauth.credentials = GoogleCredentials.get_application_default()\n",
        "drive = GoogleDrive(gauth)\n"
      ],
      "execution_count": 1,
      "outputs": []
    },
    {
      "cell_type": "markdown",
      "metadata": {
        "id": "bHlhhC2IwO6K"
      },
      "source": [
        "Once authenticated, list the files\n"
      ]
    },
    {
      "cell_type": "code",
      "metadata": {
        "colab": {
          "base_uri": "https://localhost:8080/"
        },
        "id": "ZmM_u1sywXSy",
        "outputId": "7d55ae24-9c13-4901-c38b-e71a20b2d08a"
      },
      "source": [
        "# Auto-iterate through all files that matches this query\n",
        "#file_list = drive.ListFile({'q': \"'root' in parents and title contains 'Champs' and trashed=false\"}).GetList()\n",
        "#sharedWithMe=true \n",
        "# id = 1VJMXVNSxIv4li8yK7pXZ3sitWEdC8z-93z_Apkl77_Q\n",
        "file_list = drive.ListFile({'q': \"sharedWithMe=true and trashed=false and title contains '2021 - repères d'\"}).GetList()\n",
        "for file1 in file_list:\n",
        "  print('title: %s, id: %s' % (file1['title'], file1['id']))"
      ],
      "execution_count": 21,
      "outputs": [
        {
          "output_type": "stream",
          "text": [
            "title: 2021 - repères d'intensité, id: 1VJMXVNSxIv4li8yK7pXZ3sitWEdC8z-93z_Apkl77_Q\n"
          ],
          "name": "stdout"
        }
      ]
    },
    {
      "cell_type": "markdown",
      "metadata": {
        "id": "vAvSnNJI_BCJ"
      },
      "source": [
        "once the id of the spreadsheet retrieved, load it. \n",
        "But first, we need to be allowed Gspread  / GSheet to access to our data."
      ]
    },
    {
      "cell_type": "code",
      "metadata": {
        "id": "qHdv2xxc_KEd"
      },
      "source": [
        "from google.colab import auth\n",
        "auth.authenticate_user()\n",
        "\n",
        "import gspread\n",
        "from oauth2client.client import GoogleCredentials\n",
        "\n",
        "gc = gspread.authorize(GoogleCredentials.get_application_default())"
      ],
      "execution_count": 24,
      "outputs": []
    },
    {
      "cell_type": "markdown",
      "metadata": {
        "id": "xxxEFhZpOfzB"
      },
      "source": [
        "Then load, the data into a dataframe.\n"
      ]
    },
    {
      "cell_type": "code",
      "metadata": {
        "colab": {
          "base_uri": "https://localhost:8080/",
          "height": 582
        },
        "id": "CoVycNKDOjw7",
        "outputId": "cffda8b7-38e5-4cf4-ae5e-524a43d0bf18"
      },
      "source": [
        "sh = gc.open_by_key('1VJMXVNSxIv4li8yK7pXZ3sitWEdC8z-93z_Apkl77_Q')\n",
        "worksheet = sh.get_worksheet(0)\n",
        "# get_all_values gives a list of rows.\n",
        "rows = worksheet.get_all_values()\n",
        "print(rows)\n",
        "\n",
        "import pandas as pd\n",
        "pd.DataFrame.from_records(rows)"
      ],
      "execution_count": 27,
      "outputs": [
        {
          "output_type": "stream",
          "text": [
            "[['', '', '', '', '', '', '', '', '', '', ''], ['', '', '', '', '', '', '', '', '', '', ''], ['Nom', 'Prénom', 'Catégorie', 'Record Ergo', 'Distance', 'Sec / 500', 'Watts', 'Objectif Watts bateau (0,85)', 'FTP', 'Watts B1', 'Watts B2'], ['Boccanfuso', 'Inès', 'SFPL', '07:22,50', '2000', '110,63', '259', '220', '', '132', '165'], ['Morizot', 'Aurélie', 'SFPL', '07:15,00', '2000', '108,75', '272', '231', '', '139', '173'], ['Quenneville', 'Florian', 'SHTC', '06:16,50', '2000', '94,13', '420', '357', '', '214', '268'], ['Gely', 'Axel', 'SHTC', '06:31,80', '2000', '97,95', '372', '317', '', '190', '237'], ['De Villers ', 'Louis', 'SHPL', '06:39,90', '2000', '99,98', '350', '298', '', '179', '223'], ['Ferrière', 'Mathys', 'SHPL', '06:34,00', '2000', '98,50', '366', '311', '', '187', '233'], ['Schwendenwein', 'Vincent', 'SHTC', '06:34,50', '2000', '98,63', '365', '310', '', '186', '233'], ['Macre', 'Philippe', 'SHTC', '06:44,20', '2000', '101,05', '339', '288', '', '173', '216'], ['Dore', 'Maxime', 'SHPL', '06:40,60', '2000', '100,15', '348', '296', '', '178', '222'], ['Le Levreur ', 'Jean', 'SHPL', '06:47,00', '2000', '101,75', '332', '282', '', '169', '212'], ['Marchal', 'Louis', 'J18H', '06:37,10', '2000', '99,28', '358', '304', '', '182', '228'], ['Lecomte ', 'Adrien', 'J18H', '06:38,70', '2000', '99,68', '353', '300', '', '180', '225'], ['Bara Butez', 'Yohan', 'J18H', '06:29,20', '2000', '97,30', '380', '323', '', '194', '242']]\n"
          ],
          "name": "stdout"
        },
        {
          "output_type": "execute_result",
          "data": {
            "text/html": [
              "<div>\n",
              "<style scoped>\n",
              "    .dataframe tbody tr th:only-of-type {\n",
              "        vertical-align: middle;\n",
              "    }\n",
              "\n",
              "    .dataframe tbody tr th {\n",
              "        vertical-align: top;\n",
              "    }\n",
              "\n",
              "    .dataframe thead th {\n",
              "        text-align: right;\n",
              "    }\n",
              "</style>\n",
              "<table border=\"1\" class=\"dataframe\">\n",
              "  <thead>\n",
              "    <tr style=\"text-align: right;\">\n",
              "      <th></th>\n",
              "      <th>0</th>\n",
              "      <th>1</th>\n",
              "      <th>2</th>\n",
              "      <th>3</th>\n",
              "      <th>4</th>\n",
              "      <th>5</th>\n",
              "      <th>6</th>\n",
              "      <th>7</th>\n",
              "      <th>8</th>\n",
              "      <th>9</th>\n",
              "      <th>10</th>\n",
              "    </tr>\n",
              "  </thead>\n",
              "  <tbody>\n",
              "    <tr>\n",
              "      <th>0</th>\n",
              "      <td></td>\n",
              "      <td></td>\n",
              "      <td></td>\n",
              "      <td></td>\n",
              "      <td></td>\n",
              "      <td></td>\n",
              "      <td></td>\n",
              "      <td></td>\n",
              "      <td></td>\n",
              "      <td></td>\n",
              "      <td></td>\n",
              "    </tr>\n",
              "    <tr>\n",
              "      <th>1</th>\n",
              "      <td></td>\n",
              "      <td></td>\n",
              "      <td></td>\n",
              "      <td></td>\n",
              "      <td></td>\n",
              "      <td></td>\n",
              "      <td></td>\n",
              "      <td></td>\n",
              "      <td></td>\n",
              "      <td></td>\n",
              "      <td></td>\n",
              "    </tr>\n",
              "    <tr>\n",
              "      <th>2</th>\n",
              "      <td>Nom</td>\n",
              "      <td>Prénom</td>\n",
              "      <td>Catégorie</td>\n",
              "      <td>Record Ergo</td>\n",
              "      <td>Distance</td>\n",
              "      <td>Sec / 500</td>\n",
              "      <td>Watts</td>\n",
              "      <td>Objectif Watts bateau (0,85)</td>\n",
              "      <td>FTP</td>\n",
              "      <td>Watts B1</td>\n",
              "      <td>Watts B2</td>\n",
              "    </tr>\n",
              "    <tr>\n",
              "      <th>3</th>\n",
              "      <td>Boccanfuso</td>\n",
              "      <td>Inès</td>\n",
              "      <td>SFPL</td>\n",
              "      <td>07:22,50</td>\n",
              "      <td>2000</td>\n",
              "      <td>110,63</td>\n",
              "      <td>259</td>\n",
              "      <td>220</td>\n",
              "      <td></td>\n",
              "      <td>132</td>\n",
              "      <td>165</td>\n",
              "    </tr>\n",
              "    <tr>\n",
              "      <th>4</th>\n",
              "      <td>Morizot</td>\n",
              "      <td>Aurélie</td>\n",
              "      <td>SFPL</td>\n",
              "      <td>07:15,00</td>\n",
              "      <td>2000</td>\n",
              "      <td>108,75</td>\n",
              "      <td>272</td>\n",
              "      <td>231</td>\n",
              "      <td></td>\n",
              "      <td>139</td>\n",
              "      <td>173</td>\n",
              "    </tr>\n",
              "    <tr>\n",
              "      <th>5</th>\n",
              "      <td>Quenneville</td>\n",
              "      <td>Florian</td>\n",
              "      <td>SHTC</td>\n",
              "      <td>06:16,50</td>\n",
              "      <td>2000</td>\n",
              "      <td>94,13</td>\n",
              "      <td>420</td>\n",
              "      <td>357</td>\n",
              "      <td></td>\n",
              "      <td>214</td>\n",
              "      <td>268</td>\n",
              "    </tr>\n",
              "    <tr>\n",
              "      <th>6</th>\n",
              "      <td>Gely</td>\n",
              "      <td>Axel</td>\n",
              "      <td>SHTC</td>\n",
              "      <td>06:31,80</td>\n",
              "      <td>2000</td>\n",
              "      <td>97,95</td>\n",
              "      <td>372</td>\n",
              "      <td>317</td>\n",
              "      <td></td>\n",
              "      <td>190</td>\n",
              "      <td>237</td>\n",
              "    </tr>\n",
              "    <tr>\n",
              "      <th>7</th>\n",
              "      <td>De Villers</td>\n",
              "      <td>Louis</td>\n",
              "      <td>SHPL</td>\n",
              "      <td>06:39,90</td>\n",
              "      <td>2000</td>\n",
              "      <td>99,98</td>\n",
              "      <td>350</td>\n",
              "      <td>298</td>\n",
              "      <td></td>\n",
              "      <td>179</td>\n",
              "      <td>223</td>\n",
              "    </tr>\n",
              "    <tr>\n",
              "      <th>8</th>\n",
              "      <td>Ferrière</td>\n",
              "      <td>Mathys</td>\n",
              "      <td>SHPL</td>\n",
              "      <td>06:34,00</td>\n",
              "      <td>2000</td>\n",
              "      <td>98,50</td>\n",
              "      <td>366</td>\n",
              "      <td>311</td>\n",
              "      <td></td>\n",
              "      <td>187</td>\n",
              "      <td>233</td>\n",
              "    </tr>\n",
              "    <tr>\n",
              "      <th>9</th>\n",
              "      <td>Schwendenwein</td>\n",
              "      <td>Vincent</td>\n",
              "      <td>SHTC</td>\n",
              "      <td>06:34,50</td>\n",
              "      <td>2000</td>\n",
              "      <td>98,63</td>\n",
              "      <td>365</td>\n",
              "      <td>310</td>\n",
              "      <td></td>\n",
              "      <td>186</td>\n",
              "      <td>233</td>\n",
              "    </tr>\n",
              "    <tr>\n",
              "      <th>10</th>\n",
              "      <td>Macre</td>\n",
              "      <td>Philippe</td>\n",
              "      <td>SHTC</td>\n",
              "      <td>06:44,20</td>\n",
              "      <td>2000</td>\n",
              "      <td>101,05</td>\n",
              "      <td>339</td>\n",
              "      <td>288</td>\n",
              "      <td></td>\n",
              "      <td>173</td>\n",
              "      <td>216</td>\n",
              "    </tr>\n",
              "    <tr>\n",
              "      <th>11</th>\n",
              "      <td>Dore</td>\n",
              "      <td>Maxime</td>\n",
              "      <td>SHPL</td>\n",
              "      <td>06:40,60</td>\n",
              "      <td>2000</td>\n",
              "      <td>100,15</td>\n",
              "      <td>348</td>\n",
              "      <td>296</td>\n",
              "      <td></td>\n",
              "      <td>178</td>\n",
              "      <td>222</td>\n",
              "    </tr>\n",
              "    <tr>\n",
              "      <th>12</th>\n",
              "      <td>Le Levreur</td>\n",
              "      <td>Jean</td>\n",
              "      <td>SHPL</td>\n",
              "      <td>06:47,00</td>\n",
              "      <td>2000</td>\n",
              "      <td>101,75</td>\n",
              "      <td>332</td>\n",
              "      <td>282</td>\n",
              "      <td></td>\n",
              "      <td>169</td>\n",
              "      <td>212</td>\n",
              "    </tr>\n",
              "    <tr>\n",
              "      <th>13</th>\n",
              "      <td>Marchal</td>\n",
              "      <td>Louis</td>\n",
              "      <td>J18H</td>\n",
              "      <td>06:37,10</td>\n",
              "      <td>2000</td>\n",
              "      <td>99,28</td>\n",
              "      <td>358</td>\n",
              "      <td>304</td>\n",
              "      <td></td>\n",
              "      <td>182</td>\n",
              "      <td>228</td>\n",
              "    </tr>\n",
              "    <tr>\n",
              "      <th>14</th>\n",
              "      <td>Lecomte</td>\n",
              "      <td>Adrien</td>\n",
              "      <td>J18H</td>\n",
              "      <td>06:38,70</td>\n",
              "      <td>2000</td>\n",
              "      <td>99,68</td>\n",
              "      <td>353</td>\n",
              "      <td>300</td>\n",
              "      <td></td>\n",
              "      <td>180</td>\n",
              "      <td>225</td>\n",
              "    </tr>\n",
              "    <tr>\n",
              "      <th>15</th>\n",
              "      <td>Bara Butez</td>\n",
              "      <td>Yohan</td>\n",
              "      <td>J18H</td>\n",
              "      <td>06:29,20</td>\n",
              "      <td>2000</td>\n",
              "      <td>97,30</td>\n",
              "      <td>380</td>\n",
              "      <td>323</td>\n",
              "      <td></td>\n",
              "      <td>194</td>\n",
              "      <td>242</td>\n",
              "    </tr>\n",
              "  </tbody>\n",
              "</table>\n",
              "</div>"
            ],
            "text/plain": [
              "               0         1          2   ...   8         9         10\n",
              "0                                       ...                         \n",
              "1                                       ...                         \n",
              "2             Nom    Prénom  Catégorie  ...  FTP  Watts B1  Watts B2\n",
              "3      Boccanfuso      Inès       SFPL  ...            132       165\n",
              "4         Morizot   Aurélie       SFPL  ...            139       173\n",
              "5     Quenneville   Florian       SHTC  ...            214       268\n",
              "6            Gely      Axel       SHTC  ...            190       237\n",
              "7     De Villers      Louis       SHPL  ...            179       223\n",
              "8        Ferrière    Mathys       SHPL  ...            187       233\n",
              "9   Schwendenwein   Vincent       SHTC  ...            186       233\n",
              "10          Macre  Philippe       SHTC  ...            173       216\n",
              "11           Dore    Maxime       SHPL  ...            178       222\n",
              "12    Le Levreur       Jean       SHPL  ...            169       212\n",
              "13        Marchal     Louis       J18H  ...            182       228\n",
              "14       Lecomte     Adrien       J18H  ...            180       225\n",
              "15     Bara Butez     Yohan       J18H  ...            194       242\n",
              "\n",
              "[16 rows x 11 columns]"
            ]
          },
          "metadata": {
            "tags": []
          },
          "execution_count": 27
        }
      ]
    }
  ]
}