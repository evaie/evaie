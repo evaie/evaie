{
  "nbformat": 4,
  "nbformat_minor": 0,
  "metadata": {
    "colab": {
      "name": "process_reperes_dame_de_nages",
      "provenance": [],
      "authorship_tag": "ABX9TyO2cNvbtiOGS6kIR3o+Qhxl",
      "include_colab_link": true
    },
    "kernelspec": {
      "name": "python3",
      "display_name": "Python 3"
    },
    "language_info": {
      "name": "python"
    }
  },
  "cells": [
    {
      "cell_type": "markdown",
      "metadata": {
        "id": "view-in-github",
        "colab_type": "text"
      },
      "source": [
        "<a href=\"https://colab.research.google.com/github/evaie/evaie/blob/main/process_reperes_dame_de_nages.ipynb\" target=\"_parent\"><img src=\"https://colab.research.google.com/assets/colab-badge.svg\" alt=\"Open In Colab\"/></a>"
      ]
    },
    {
      "cell_type": "markdown",
      "metadata": {
        "id": "nKcTDp9NsHWx"
      },
      "source": [
        "#Get references data\n",
        "Find Mattieu's file and read it into a dataframe\n"
      ]
    },
    {
      "cell_type": "code",
      "metadata": {
        "id": "K4rsDYrFr8GR"
      },
      "source": [
        "from pydrive.auth import GoogleAuth\n",
        "from pydrive.drive import GoogleDrive\n",
        "from google.colab import auth\n",
        "from oauth2client.client import GoogleCredentials\n",
        "\n",
        "# authenticate the user\n",
        "auth.authenticate_user()\n",
        "gauth = GoogleAuth()\n",
        "gauth.credentials = GoogleCredentials.get_application_default()\n",
        "drive = GoogleDrive(gauth)\n"
      ],
      "execution_count": 15,
      "outputs": []
    },
    {
      "cell_type": "markdown",
      "metadata": {
        "id": "bHlhhC2IwO6K"
      },
      "source": [
        "Once authenticated, list the files that contains personal records for the atheletes\n"
      ]
    },
    {
      "cell_type": "code",
      "metadata": {
        "colab": {
          "base_uri": "https://localhost:8080/"
        },
        "id": "ZmM_u1sywXSy",
        "outputId": "03fc9ecd-f933-4911-faa8-0a59b56e8aa4"
      },
      "source": [
        "# Auto-iterate through all files that matches this query\n",
        "#file_list = drive.ListFile({'q': \"'root' in parents and title contains 'Champs' and trashed=false\"}).GetList()\n",
        "#sharedWithMe=true \n",
        "# id = 1VJMXVNSxIv4li8yK7pXZ3sitWEdC8z-93z_Apkl77_Q\n",
        "file_list = drive.ListFile({'q': \"sharedWithMe=true and trashed=false and title contains '2021 - repères d'\"}).GetList()\n",
        "for file1 in file_list:\n",
        "  print('title: %s, id: %s' % (file1['title'], file1['id']))"
      ],
      "execution_count": 16,
      "outputs": [
        {
          "output_type": "stream",
          "text": [
            "title: 2021 - repères d'intensité, id: 1VJMXVNSxIv4li8yK7pXZ3sitWEdC8z-93z_Apkl77_Q\n"
          ],
          "name": "stdout"
        }
      ]
    },
    {
      "cell_type": "markdown",
      "metadata": {
        "id": "vAvSnNJI_BCJ"
      },
      "source": [
        "once the id of the spreadsheet retrieved, load it. \n",
        "But first, we need to be allowed Gspread  / GSheet to access to our data."
      ]
    },
    {
      "cell_type": "code",
      "metadata": {
        "id": "qHdv2xxc_KEd"
      },
      "source": [
        "from google.colab import auth\n",
        "auth.authenticate_user()\n",
        "\n",
        "import gspread\n",
        "from oauth2client.client import GoogleCredentials\n",
        "\n",
        "gc = gspread.authorize(GoogleCredentials.get_application_default())"
      ],
      "execution_count": 24,
      "outputs": []
    },
    {
      "cell_type": "markdown",
      "metadata": {
        "id": "xxxEFhZpOfzB"
      },
      "source": [
        "Then load, the data into a dataframe.\n"
      ]
    },
    {
      "cell_type": "code",
      "metadata": {
        "colab": {
          "base_uri": "https://localhost:8080/",
          "height": 173
        },
        "id": "6o1K8HxjQ_68",
        "outputId": "6883e39a-807f-4858-f383-809d338463c2"
      },
      "source": [
        "sh = gc.open_by_key('1VJMXVNSxIv4li8yK7pXZ3sitWEdC8z-93z_Apkl77_Q')\n",
        "worksheet = sh.get_worksheet(0)\n",
        "# get_all_values gives a list of rows.\n",
        "rows = worksheet.get_all_values()\n",
        "#print(rows)\n",
        "\n",
        "import pandas as pd\n",
        "df_reperes = pd.DataFrame.from_records(rows)\n",
        "df_reperes.describe()"
      ],
      "execution_count": 30,
      "outputs": [
        {
          "output_type": "execute_result",
          "data": {
            "text/html": [
              "<div>\n",
              "<style scoped>\n",
              "    .dataframe tbody tr th:only-of-type {\n",
              "        vertical-align: middle;\n",
              "    }\n",
              "\n",
              "    .dataframe tbody tr th {\n",
              "        vertical-align: top;\n",
              "    }\n",
              "\n",
              "    .dataframe thead th {\n",
              "        text-align: right;\n",
              "    }\n",
              "</style>\n",
              "<table border=\"1\" class=\"dataframe\">\n",
              "  <thead>\n",
              "    <tr style=\"text-align: right;\">\n",
              "      <th></th>\n",
              "      <th>0</th>\n",
              "      <th>1</th>\n",
              "      <th>2</th>\n",
              "      <th>3</th>\n",
              "      <th>4</th>\n",
              "      <th>5</th>\n",
              "      <th>6</th>\n",
              "      <th>7</th>\n",
              "      <th>8</th>\n",
              "      <th>9</th>\n",
              "      <th>10</th>\n",
              "    </tr>\n",
              "  </thead>\n",
              "  <tbody>\n",
              "    <tr>\n",
              "      <th>count</th>\n",
              "      <td>16</td>\n",
              "      <td>16</td>\n",
              "      <td>16</td>\n",
              "      <td>16</td>\n",
              "      <td>16</td>\n",
              "      <td>16</td>\n",
              "      <td>16</td>\n",
              "      <td>16</td>\n",
              "      <td>16</td>\n",
              "      <td>16</td>\n",
              "      <td>16</td>\n",
              "    </tr>\n",
              "    <tr>\n",
              "      <th>unique</th>\n",
              "      <td>15</td>\n",
              "      <td>14</td>\n",
              "      <td>6</td>\n",
              "      <td>15</td>\n",
              "      <td>3</td>\n",
              "      <td>15</td>\n",
              "      <td>15</td>\n",
              "      <td>15</td>\n",
              "      <td>2</td>\n",
              "      <td>15</td>\n",
              "      <td>14</td>\n",
              "    </tr>\n",
              "    <tr>\n",
              "      <th>top</th>\n",
              "      <td></td>\n",
              "      <td>Louis</td>\n",
              "      <td>SHTC</td>\n",
              "      <td></td>\n",
              "      <td>2000</td>\n",
              "      <td></td>\n",
              "      <td></td>\n",
              "      <td></td>\n",
              "      <td></td>\n",
              "      <td></td>\n",
              "      <td>233</td>\n",
              "    </tr>\n",
              "    <tr>\n",
              "      <th>freq</th>\n",
              "      <td>2</td>\n",
              "      <td>2</td>\n",
              "      <td>4</td>\n",
              "      <td>2</td>\n",
              "      <td>13</td>\n",
              "      <td>2</td>\n",
              "      <td>2</td>\n",
              "      <td>2</td>\n",
              "      <td>15</td>\n",
              "      <td>2</td>\n",
              "      <td>2</td>\n",
              "    </tr>\n",
              "  </tbody>\n",
              "</table>\n",
              "</div>"
            ],
            "text/plain": [
              "        0      1     2   3     4   5   6   7   8   9    10\n",
              "count   16     16    16  16    16  16  16  16  16  16   16\n",
              "unique  15     14     6  15     3  15  15  15   2  15   14\n",
              "top         Louis  SHTC      2000                      233\n",
              "freq     2      2     4   2    13   2   2   2  15   2    2"
            ]
          },
          "metadata": {
            "tags": []
          },
          "execution_count": 30
        }
      ]
    },
    {
      "cell_type": "markdown",
      "metadata": {
        "id": "YEUEKA1KIEgv"
      },
      "source": [
        "Get the list of the files to parse"
      ]
    },
    {
      "cell_type": "code",
      "metadata": {
        "colab": {
          "base_uri": "https://localhost:8080/"
        },
        "id": "6ddL5otne9Wq",
        "outputId": "7254f593-a8f5-47de-e8b7-b27ed96b5c71"
      },
      "source": [
        "# files whose title contains SpdCoach and not in the trash\n",
        "file_list = drive.ListFile({'q': \"title contains 'SpdCoach' and trashed=false\"}).GetList()\n",
        "for ddd_file in file_list:\n",
        "  # collect meta data from the filename\n",
        "  filename = ddd_file['title']\n",
        "  file_id = ddd_file['id']\n",
        "  tokens = filename.split('-')\n",
        "  rower = tokens[1].strip()\n",
        "  training_type = tokens[2].split('.')[0].strip()\n",
        "  date = tokens[0].split(' ')[2].strip() +':'+ tokens[0].split(' ')[3].strip()\n",
        "  print('rower: %s, training type: %s, date: %s' % (rower, training_type, date))"
      ],
      "execution_count": 25,
      "outputs": [
        {
          "output_type": "stream",
          "text": [
            "rower: Adrien, training type: 500 et recup, date: 20210403:0814am\n",
            "rower: Louis, training type: 500, date: 20210403:0814am\n",
            "rower: Louis, training type: recup, date: 20210403:0824am\n",
            "rower: Louis, training type: 1000, date: 20210331:0420pm\n",
            "rower: Adrien, training type: 1000, date: 20210331:0420pm\n",
            "rower: Yohan, training type: 1000, date: 20210331:0253pm\n"
          ],
          "name": "stdout"
        }
      ]
    },
    {
      "cell_type": "code",
      "metadata": {
        "colab": {
          "base_uri": "https://localhost:8080/",
          "height": 258
        },
        "id": "RxiRcIpwLUDc",
        "outputId": "34d5ae77-e505-412f-be13-2fce033d04d9"
      },
      "source": [
        "# this assume pyDrive has a token to read the GoogleDrive\n",
        "myfile = drive.CreateFile({'id': '1B3u4YwBYpnV-k-ASEig01amQeoaWE7xg'})\n",
        "myfile.GetContentFile('file.csv')\n",
        "# then read it in a Dataframe\n",
        "import pandas as pd\n",
        "ddd = pd.read_csv('file.csv', skiprows=27, header=None)\n",
        "ddd.head()"
      ],
      "execution_count": 22,
      "outputs": [
        {
          "output_type": "execute_result",
          "data": {
            "text/html": [
              "<div>\n",
              "<style scoped>\n",
              "    .dataframe tbody tr th:only-of-type {\n",
              "        vertical-align: middle;\n",
              "    }\n",
              "\n",
              "    .dataframe tbody tr th {\n",
              "        vertical-align: top;\n",
              "    }\n",
              "\n",
              "    .dataframe thead th {\n",
              "        text-align: right;\n",
              "    }\n",
              "</style>\n",
              "<table border=\"1\" class=\"dataframe\">\n",
              "  <thead>\n",
              "    <tr style=\"text-align: right;\">\n",
              "      <th></th>\n",
              "      <th>0</th>\n",
              "      <th>1</th>\n",
              "      <th>2</th>\n",
              "      <th>3</th>\n",
              "      <th>4</th>\n",
              "      <th>5</th>\n",
              "      <th>6</th>\n",
              "      <th>7</th>\n",
              "      <th>8</th>\n",
              "      <th>9</th>\n",
              "      <th>10</th>\n",
              "      <th>11</th>\n",
              "      <th>12</th>\n",
              "      <th>13</th>\n",
              "      <th>14</th>\n",
              "      <th>15</th>\n",
              "      <th>16</th>\n",
              "      <th>17</th>\n",
              "      <th>18</th>\n",
              "      <th>19</th>\n",
              "      <th>20</th>\n",
              "      <th>21</th>\n",
              "      <th>22</th>\n",
              "      <th>23</th>\n",
              "    </tr>\n",
              "  </thead>\n",
              "  <tbody>\n",
              "    <tr>\n",
              "      <th>0</th>\n",
              "      <td>Interval</td>\n",
              "      <td>Distance (GPS)</td>\n",
              "      <td>Distance (IMP)</td>\n",
              "      <td>Elapsed Time</td>\n",
              "      <td>Split (GPS)</td>\n",
              "      <td>Speed (GPS)</td>\n",
              "      <td>Split (IMP)</td>\n",
              "      <td>Speed (IMP)</td>\n",
              "      <td>Stroke Rate</td>\n",
              "      <td>Total Strokes</td>\n",
              "      <td>Distance/Stroke (GPS)</td>\n",
              "      <td>Distance/Stroke (IMP)</td>\n",
              "      <td>Heart Rate</td>\n",
              "      <td>Power</td>\n",
              "      <td>Catch</td>\n",
              "      <td>Slip</td>\n",
              "      <td>Finish</td>\n",
              "      <td>Wash</td>\n",
              "      <td>Force Avg</td>\n",
              "      <td>Work</td>\n",
              "      <td>Force Max</td>\n",
              "      <td>Max Force Angle</td>\n",
              "      <td>GPS Lat.</td>\n",
              "      <td>GPS Lon.</td>\n",
              "    </tr>\n",
              "    <tr>\n",
              "      <th>1</th>\n",
              "      <td>(Interval)</td>\n",
              "      <td>(Meters)</td>\n",
              "      <td>(Meters)</td>\n",
              "      <td>(HH:MM:SS.tenths)</td>\n",
              "      <td>(/500)</td>\n",
              "      <td>(M/S)</td>\n",
              "      <td>(/500)</td>\n",
              "      <td>(M/S)</td>\n",
              "      <td>(SPM)</td>\n",
              "      <td>(Strokes)</td>\n",
              "      <td>(Meters)</td>\n",
              "      <td>(Meters)</td>\n",
              "      <td>(BPM)</td>\n",
              "      <td>(Watts)</td>\n",
              "      <td>(Degrees)</td>\n",
              "      <td>(Degrees)</td>\n",
              "      <td>(Degrees)</td>\n",
              "      <td>(Degrees)</td>\n",
              "      <td>(Newtons)</td>\n",
              "      <td>(Joules)</td>\n",
              "      <td>(Newtons)</td>\n",
              "      <td>(Degrees)</td>\n",
              "      <td>(Degrees)</td>\n",
              "      <td>(Degrees)</td>\n",
              "    </tr>\n",
              "    <tr>\n",
              "      <th>2</th>\n",
              "      <td>1</td>\n",
              "      <td>1.9</td>\n",
              "      <td>0.0</td>\n",
              "      <td>00:00:01.3</td>\n",
              "      <td>00:08:00.7</td>\n",
              "      <td>1.04</td>\n",
              "      <td>00:00:00.0</td>\n",
              "      <td>0.00</td>\n",
              "      <td>44.5</td>\n",
              "      <td>1</td>\n",
              "      <td>1.9</td>\n",
              "      <td>0.0</td>\n",
              "      <td>---</td>\n",
              "      <td>209</td>\n",
              "      <td>-41</td>\n",
              "      <td>2</td>\n",
              "      <td>30</td>\n",
              "      <td>7</td>\n",
              "      <td>243</td>\n",
              "      <td>550</td>\n",
              "      <td>659</td>\n",
              "      <td>-10</td>\n",
              "      <td>48.89648480</td>\n",
              "      <td>2.26630890</td>\n",
              "    </tr>\n",
              "    <tr>\n",
              "      <th>3</th>\n",
              "      <td>1</td>\n",
              "      <td>3.7</td>\n",
              "      <td>0.0</td>\n",
              "      <td>00:00:01.9</td>\n",
              "      <td>00:03:28.3</td>\n",
              "      <td>2.40</td>\n",
              "      <td>00:00:00.0</td>\n",
              "      <td>0.00</td>\n",
              "      <td>85.5</td>\n",
              "      <td>2</td>\n",
              "      <td>1.8</td>\n",
              "      <td>0.0</td>\n",
              "      <td>---</td>\n",
              "      <td>331</td>\n",
              "      <td>-38</td>\n",
              "      <td>2</td>\n",
              "      <td>31</td>\n",
              "      <td>8</td>\n",
              "      <td>358</td>\n",
              "      <td>501</td>\n",
              "      <td>648</td>\n",
              "      <td>-5</td>\n",
              "      <td>48.89649310</td>\n",
              "      <td>2.26633010</td>\n",
              "    </tr>\n",
              "    <tr>\n",
              "      <th>4</th>\n",
              "      <td>1</td>\n",
              "      <td>9.7</td>\n",
              "      <td>0.0</td>\n",
              "      <td>00:00:03.4</td>\n",
              "      <td>00:02:18.1</td>\n",
              "      <td>3.62</td>\n",
              "      <td>00:00:00.0</td>\n",
              "      <td>0.00</td>\n",
              "      <td>40.5</td>\n",
              "      <td>3</td>\n",
              "      <td>6.1</td>\n",
              "      <td>0.0</td>\n",
              "      <td>---</td>\n",
              "      <td>399</td>\n",
              "      <td>-44</td>\n",
              "      <td>1</td>\n",
              "      <td>31</td>\n",
              "      <td>9</td>\n",
              "      <td>369</td>\n",
              "      <td>563</td>\n",
              "      <td>653</td>\n",
              "      <td>-5</td>\n",
              "      <td>48.89652030</td>\n",
              "      <td>2.26640170</td>\n",
              "    </tr>\n",
              "  </tbody>\n",
              "</table>\n",
              "</div>"
            ],
            "text/plain": [
              "           0               1   ...           22          23\n",
              "0    Interval  Distance (GPS)  ...     GPS Lat.    GPS Lon.\n",
              "1  (Interval)        (Meters)  ...    (Degrees)   (Degrees)\n",
              "2           1             1.9  ...  48.89648480  2.26630890\n",
              "3           1             3.7  ...  48.89649310  2.26633010\n",
              "4           1             9.7  ...  48.89652030  2.26640170\n",
              "\n",
              "[5 rows x 24 columns]"
            ]
          },
          "metadata": {
            "tags": []
          },
          "execution_count": 22
        }
      ]
    }
  ]
}